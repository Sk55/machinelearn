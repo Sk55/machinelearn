{
 "cells": [
  {
   "cell_type": "markdown",
   "metadata": {},
   "source": [
    "# 图像处理的一般流程\n",
    "    预处理\n",
    "    导入模块\n",
    "    新建一个文件夹用来存放处理的图片\n",
    "### 1、数据准备\n",
    "    分别对数据图片进行类别分类和标注化分类（转化为数字标签）\n",
    "    随机拆分数据集\n",
    "\n",
    "### 2、使用RGB颜色直方图做特征训练分类器\n",
    "    设置RGB颜色直方图    \n",
    "    hist = cv2.calcHist([img], [0,1,2], None, [8]*3, [0,256]*3)\n",
    "    提取直方图特征\n",
    "    np.row_stack([transform(img) for img in images])\n",
    "###### 2.1、使用随机森林训练分类器（建模）\n",
    "    因为一共有4类，所以不用太深的决策树，因为是分类树，所以使用默认的GINI值，为了运算，使用15颗树\n",
    "    训练\n",
    "    保存\n",
    "    评估随机森林分类器（准确率，召回率，f1分数，支持度）\n",
    "######  2.2、使用逻辑回归训练分类器\n",
    "    为了过拟合，使用的是L2正则，保持随机种子不变\n",
    "    训练\n",
    "    保存\n",
    "    评估随机森林分类器（准确率，召回率，f1分数，支持度）\n",
    "    \n",
    "### 3、使用Lab颜色直方图做特征训练分类器\n",
    "    设置Lab颜色直方图\n",
    "    提取直方图特征\n",
    "###### 3.1、使用随机森林训练分类器（建模）\n",
    "    训练\n",
    "    保存\n",
    "    评估随机森林分类器（准确率，召回率，f1分数，支持度）\n",
    "######  3.2、使用逻辑回归训练分类器\n",
    "    训练\n",
    "    保存\n",
    "    评估随机森林分类器（准确率，召回率，f1分数，支持度\n",
    "\n",
    "### 4、使用分类器对新图像分类\n",
    "    定义一个用于分类的Predictor类\n",
    "    对新图像进行分类\n",
    "\n",
    "\n"
   ]
  },
  {
   "cell_type": "code",
   "execution_count": 1,
   "metadata": {},
   "outputs": [],
   "source": [
    "import numpy as np  #计算库\n",
    "import cv2 ##########opencv\n",
    "import os   #######文件操作\n",
    "from sklearn.model_selection import train_test_split  ##数据集的拆分\n",
    "from sklearn.preprocessing import LabelEncoder   \n",
    "# 标准化标签，将标签值统一转换成range(标签值个数-1)范围内\n",
    "from sklearn.ensemble import RandomForestClassifier  #随机森林\n",
    "from sklearn.linear_model import LogisticRegression  #逻辑回归\n",
    "from sklearn.metrics import confusion_matrix, precision_recall_fscore_support\n",
    "\n",
    "'''\n",
    "confusion_matrix 误分类矩阵\n",
    "precision_recall_fscore_support  正确率，召回率，F1值\n",
    "\n",
    "'''\n",
    "\n",
    "\n",
    "import pandas as pd\n",
    "import pickle                      ##用来存储图像结构化的数据"
   ]
  },
  {
   "cell_type": "code",
   "execution_count": 2,
   "metadata": {},
   "outputs": [],
   "source": [
    "# from sklearn.preprocessing import LabelEncoder  \n",
    "'''\n",
    "标准化标签，将标签值统一转换成range(标签值个数-1)范围内\n",
    "In [1]: from sklearn import preprocessing\n",
    "   ...: le = preprocessing.LabelEncoder()\n",
    "   ...: le.fit([1,2,2,6,3])\n",
    "   ...:\n",
    "Out[1]: LabelEncoder()\n",
    "\n",
    "In [2]: le.classes_\n",
    "Out[2]: array([1, 2, 3, 6])\n",
    "\n",
    "In [3]: le.transform([1,1,3,6,2])\n",
    "Out[3]: array([0, 0, 2, 3, 1], dtype=int64\n",
    "\n",
    "In [4]: le.inverse_transform([0, 0, 2, 3, 1])\n",
    "Out[4]: array([1, 1, 3, 6, 2])\n",
    "\n",
    "\n",
    "\n",
    "\n",
    "In [5]: from sklearn import preprocessing\n",
    "   ...: le =preprocessing.LabelEncoder()\n",
    "   ...: le.fit([\"paris\", \"paris\", \"tokyo\", \"amsterdam\"])\n",
    "   ...: print('标签个数:%s'% le.classes_)\n",
    "   ...: print('标签值标准化:%s' % le.transform([\"tokyo\", \"tokyo\", \"paris\"]))\n",
    "   ...: print('标准化标签值反转:%s' % le.inverse_transform([2, 2, 1]))\n",
    "   ...:\n",
    "标签个数:['amsterdam' 'paris' 'tokyo']\n",
    "标签值标准化:[2 2 1]\n",
    "标准化标签值反转:['tokyo' 'tokyo' 'paris']\n",
    "\n",
    "'''\n",
    "\n",
    "##新建一个文件夹用来存放数据\n",
    "output_dir = 'output'\n",
    "if not os.path.exists(output_dir):\n",
    "    os.mkdir(output_dir)"
   ]
  },
  {
   "cell_type": "markdown",
   "metadata": {},
   "source": [
    "## 数据准备"
   ]
  },
  {
   "cell_type": "code",
   "execution_count": 3,
   "metadata": {},
   "outputs": [],
   "source": [
    "image_dir = \"data/images\""
   ]
  },
  {
   "cell_type": "code",
   "execution_count": 13,
   "metadata": {},
   "outputs": [
    {
     "name": "stdout",
     "output_type": "stream",
     "text": [
      "['crocus', 'crocus', 'crocus', 'crocus', 'crocus', 'crocus', 'crocus', 'crocus', 'crocus', 'crocus', 'crocus', 'crocus', 'crocus', 'crocus', 'crocus', 'crocus', 'crocus', 'crocus', 'crocus', 'crocus', 'crocus', 'crocus', 'crocus', 'crocus', 'crocus', 'crocus', 'crocus', 'crocus', 'crocus', 'crocus', 'crocus', 'crocus', 'crocus', 'crocus', 'crocus', 'crocus', 'crocus', 'crocus', 'crocus', 'crocus', 'crocus', 'crocus', 'crocus', 'crocus', 'crocus', 'crocus', 'crocus', 'crocus', 'crocus', 'crocus', 'daisy', 'daisy', 'daisy', 'daisy', 'daisy', 'daisy', 'daisy', 'daisy', 'daisy', 'daisy', 'daisy', 'daisy', 'daisy', 'daisy', 'daisy', 'daisy', 'daisy', 'daisy', 'daisy', 'daisy', 'daisy', 'daisy', 'daisy', 'daisy', 'daisy', 'daisy', 'daisy', 'daisy', 'daisy', 'daisy', 'daisy', 'daisy', 'daisy', 'daisy', 'daisy', 'daisy', 'daisy', 'daisy', 'daisy', 'daisy', 'daisy', 'daisy', 'daisy', 'daisy', 'daisy', 'daisy', 'daisy', 'daisy', 'daisy', 'daisy', 'daisy', 'daisy', 'daisy', 'daisy', 'daisy', 'daisy', 'daisy', 'pansy', 'pansy', 'pansy', 'pansy', 'pansy', 'pansy', 'pansy', 'pansy', 'pansy', 'pansy', 'pansy', 'pansy', 'pansy', 'pansy', 'pansy', 'pansy', 'pansy', 'pansy', 'pansy', 'pansy', 'pansy', 'pansy', 'pansy', 'pansy', 'pansy', 'pansy', 'pansy', 'pansy', 'pansy', 'pansy', 'pansy', 'pansy', 'pansy', 'pansy', 'pansy', 'pansy', 'pansy', 'pansy', 'pansy', 'pansy', 'pansy', 'pansy', 'pansy', 'pansy', 'pansy', 'pansy', 'pansy', 'pansy', 'pansy', 'pansy', 'pansy', 'pansy', 'pansy', 'pansy', 'pansy', 'pansy', 'sunflower', 'sunflower', 'sunflower', 'sunflower', 'sunflower', 'sunflower', 'sunflower', 'sunflower', 'sunflower', 'sunflower', 'sunflower', 'sunflower', 'sunflower', 'sunflower', 'sunflower', 'sunflower', 'sunflower', 'sunflower', 'sunflower', 'sunflower', 'sunflower', 'sunflower', 'sunflower', 'sunflower', 'sunflower', 'sunflower', 'sunflower', 'sunflower', 'sunflower', 'sunflower', 'sunflower', 'sunflower', 'sunflower', 'sunflower', 'sunflower', 'sunflower', 'sunflower', 'sunflower', 'sunflower', 'sunflower', 'sunflower', 'sunflower', 'sunflower', 'sunflower', 'sunflower', 'sunflower', 'sunflower', 'sunflower', 'sunflower', 'sunflower', 'sunflower', 'sunflower', 'sunflower', 'sunflower', 'sunflower', 'sunflower', 'sunflower', 'sunflower', 'sunflower', 'sunflower', 'sunflower', 'sunflower', 'sunflower', 'sunflower', 'sunflower', 'sunflower', 'sunflower', 'sunflower', 'sunflower', 'sunflower', 'sunflower']\n"
     ]
    }
   ],
   "source": [
    "images = []\n",
    "labels = []\n",
    "for fname in os.listdir(image_dir):\n",
    "    if not fname.startswith('image'):continue  #跳过不是图片的文件\n",
    "    fpath=os.path.join(image_dir,fname)   #指定文件夹下，文件\n",
    "           #     根据文件名，提取图片分类\n",
    "    lab = fpath.split(\"_\")[1] #得到得是不同后缀的图片名\n",
    "        #     print(lab)\n",
    "           #RGB模式读取图片\n",
    "    img = cv2.imread(fpath,cv2.IMREAD_COLOR)  #得到得是多维的矩阵\n",
    "    images.append(img)\n",
    "    labels.append(lab)\n",
    "print(labels)"
   ]
  },
  {
   "cell_type": "code",
   "execution_count": 17,
   "metadata": {},
   "outputs": [
    {
     "data": {
      "text/plain": [
       "(array([0, 0, 0, 0, 0, 0, 0, 0, 0, 0, 0, 0, 0, 0, 0, 0, 0, 0, 0, 0, 0, 0,\n",
       "        0, 0, 0, 0, 0, 0, 0, 0, 0, 0, 0, 0, 0, 0, 0, 0, 0, 0, 0, 0, 0, 0,\n",
       "        0, 0, 0, 0, 0, 0, 1, 1, 1, 1, 1, 1, 1, 1, 1, 1, 1, 1, 1, 1, 1, 1,\n",
       "        1, 1, 1, 1, 1, 1, 1, 1, 1, 1, 1, 1, 1, 1, 1, 1, 1, 1, 1, 1, 1, 1,\n",
       "        1, 1, 1, 1, 1, 1, 1, 1, 1, 1, 1, 1, 1, 1, 1, 1, 1, 1, 1, 2, 2, 2,\n",
       "        2, 2, 2, 2, 2, 2, 2, 2, 2, 2, 2, 2, 2, 2, 2, 2, 2, 2, 2, 2, 2, 2,\n",
       "        2, 2, 2, 2, 2, 2, 2, 2, 2, 2, 2, 2, 2, 2, 2, 2, 2, 2, 2, 2, 2, 2,\n",
       "        2, 2, 2, 2, 2, 2, 2, 2, 2, 3, 3, 3, 3, 3, 3, 3, 3, 3, 3, 3, 3, 3,\n",
       "        3, 3, 3, 3, 3, 3, 3, 3, 3, 3, 3, 3, 3, 3, 3, 3, 3, 3, 3, 3, 3, 3,\n",
       "        3, 3, 3, 3, 3, 3, 3, 3, 3, 3, 3, 3, 3, 3, 3, 3, 3, 3, 3, 3, 3, 3,\n",
       "        3, 3, 3, 3, 3, 3, 3, 3, 3, 3, 3, 3, 3, 3], dtype=int64), 234)"
      ]
     },
     "execution_count": 17,
     "metadata": {},
     "output_type": "execute_result"
    }
   ],
   "source": [
    "# 将图片标签ID化\n",
    "label_encoder = LabelEncoder()\n",
    "y = label_encoder.fit_transform(labels)\n",
    "y,len(y)"
   ]
  },
  {
   "cell_type": "code",
   "execution_count": 37,
   "metadata": {},
   "outputs": [
    {
     "data": {
      "text/plain": [
       "(array([3, 3, 1, 1, 2, 3, 2, 3, 2, 0, 1, 1, 3, 2, 1, 3, 0, 1, 2, 0, 3, 2,\n",
       "        1, 3, 2, 2, 3, 1, 2, 0, 3, 2, 3, 2, 0, 0, 1, 0, 3, 0, 1, 3, 0, 0,\n",
       "        1, 1, 3], dtype=int64),\n",
       " array([1, 1, 0, 1, 1, 0, 1, 1, 0, 3, 3, 0, 0, 0, 1, 1, 3, 1, 2, 2, 1, 2,\n",
       "        1, 1, 1, 3, 3, 3, 3, 2, 0, 3, 1, 1, 2, 1, 3, 3, 0, 0, 2, 2, 0, 3,\n",
       "        0, 3, 1, 3, 0, 3, 0, 2, 3, 1, 2, 0, 3, 2, 3, 1, 3, 1, 0, 2, 2, 2,\n",
       "        0, 3, 2, 2, 2, 2, 0, 1, 2, 2, 2, 0, 0, 3, 2, 1, 3, 3, 0, 3, 3, 2,\n",
       "        3, 3, 1, 3, 0, 0, 1, 0, 1, 2, 2, 3, 3, 2, 3, 1, 3, 2, 2, 3, 0, 0,\n",
       "        2, 3, 3, 3, 3, 3, 3, 1, 3, 1, 3, 1, 0, 1, 1, 2, 1, 2, 2, 0, 0, 1,\n",
       "        3, 3, 3, 0, 0, 3, 0, 3, 2, 1, 3, 2, 2, 0, 3, 1, 2, 0, 3, 2, 2, 1,\n",
       "        3, 3, 0, 0, 2, 2, 3, 1, 3, 1, 0, 2, 3, 1, 0, 3, 1, 2, 0, 1, 1, 3,\n",
       "        2, 1, 2, 2, 0, 0, 2, 3, 1, 3, 1], dtype=int64))"
      ]
     },
     "execution_count": 37,
     "metadata": {},
     "output_type": "execute_result"
    }
   ],
   "source": [
    "# 训练集，测试集划分\n",
    "train_idx, test_idx = train_test_split(range(len(y)), test_size=0.2, stratify=y, random_state=1234)\n",
    "train_y = y[train_idx]\n",
    "test_y = y[test_idx]\n",
    "test_y,train_y #随机拆分"
   ]
  },
  {
   "cell_type": "markdown",
   "metadata": {},
   "source": [
    "## 2、使用RGB颜色直方图做特征训练分类器"
   ]
  },
  {
   "cell_type": "markdown",
   "metadata": {},
   "source": [
    "#### 2.1、计算RGB颜色直方图"
   ]
  },
  {
   "cell_type": "code",
   "execution_count": 33,
   "metadata": {},
   "outputs": [
    {
     "name": "stdout",
     "output_type": "stream",
     "text": [
      "Help on built-in function calcHist:\n",
      "\n",
      "calcHist(...)\n",
      "    calcHist(images, channels, mask, histSize, ranges[, hist[, accumulate]]) -> hist\n",
      "    .   @overload\n",
      "\n"
     ]
    }
   ],
   "source": [
    "# 定义特征转化函数\n",
    "def transform(img):\n",
    "    # 每个通道等分为8组后计算直方图\n",
    "    hist = cv2.calcHist([img], [0,1,2], None, [8]*3, [0,256]*3)\n",
    "    return hist.ravel()    # 将8x8x8的多维数组拉平\n",
    "\n",
    "help(cv2.calcHist)"
   ]
  },
  {
   "cell_type": "code",
   "execution_count": 36,
   "metadata": {},
   "outputs": [
    {
     "data": {
      "text/plain": [
       "(234, array([[9.0558e+04, 1.9131e+04, 2.6000e+01, ..., 0.0000e+00, 7.4000e+01,\n",
       "         7.8600e+03],\n",
       "        [7.4880e+03, 4.5000e+01, 0.0000e+00, ..., 9.0000e+00, 1.5300e+02,\n",
       "         7.1500e+02],\n",
       "        [1.7427e+04, 1.4260e+03, 0.0000e+00, ..., 0.0000e+00, 5.0300e+02,\n",
       "         1.0540e+03],\n",
       "        ...,\n",
       "        [2.8800e+03, 6.2100e+03, 5.1330e+03, ..., 0.0000e+00, 8.0000e+00,\n",
       "         9.0000e+00],\n",
       "        [2.7635e+04, 9.2820e+03, 3.6960e+03, ..., 0.0000e+00, 0.0000e+00,\n",
       "         5.0000e+00],\n",
       "        [6.4000e+01, 1.8600e+02, 1.3510e+03, ..., 0.0000e+00, 0.0000e+00,\n",
       "         0.0000e+00]], dtype=float32))"
      ]
     },
     "execution_count": 36,
     "metadata": {},
     "output_type": "execute_result"
    }
   ],
   "source": [
    "# cv2.calcHist(images, channels, mask, histSize, \n",
    "            #ranges[, hist[, accumulate]]) → hist\n",
    "\n",
    "# 参数说明\n",
    "# images: 图片列表\n",
    "# channels: 需要计算直方图的通道。[0]表示计算通道0的直方图，\n",
    "                #[0,1,2]表示计算通道0,1,2所表示颜色的直方图\n",
    "\n",
    "# mask: 蒙版，只计算值>0的位置上像素的颜色直方图，取None表示无蒙版\n",
    "# histSize: 每个维度上直方图的大小，[8]表示把通道0的颜色取值等分\n",
    "                    #为8份后计算直方图\n",
    "\n",
    "# ranges: 每个维度的取值范围，[lower0, upper0, lower1, upper1, ...]\n",
    "                    #，lower可以取到，upper无法取到\n",
    "\n",
    "# hist: 保存结果的ndarray对象\n",
    "# accumulate: 是否累积，如果设置了这个值，hist不会被清零，\n",
    "                      #直方图结果直接累积到hist中\n",
    "    \n",
    "    \n",
    "\n",
    "# 提取每个图像的直方图特征\n",
    "x = np.row_stack([transform(img) for img in images])\n",
    "len(x),x   #####################内部怎么计算的"
   ]
  },
  {
   "cell_type": "code",
   "execution_count": 23,
   "metadata": {},
   "outputs": [],
   "source": [
    "train_x = x[train_idx, :]\n",
    "test_x = x[test_idx, :]"
   ]
  },
  {
   "cell_type": "code",
   "execution_count": 38,
   "metadata": {
    "collapsed": true
   },
   "outputs": [
    {
     "data": {
      "text/plain": [
       "(array([[1.44430e+04, 1.20000e+02, 0.00000e+00, ..., 0.00000e+00,\n",
       "         0.00000e+00, 0.00000e+00],\n",
       "        [1.32152e+05, 5.90000e+02, 2.00000e+00, ..., 0.00000e+00,\n",
       "         4.00000e+00, 5.47000e+02],\n",
       "        [7.58560e+04, 3.98300e+03, 2.24000e+02, ..., 0.00000e+00,\n",
       "         2.37000e+02, 2.25400e+03],\n",
       "        ...,\n",
       "        [1.17239e+05, 7.50000e+01, 0.00000e+00, ..., 0.00000e+00,\n",
       "         1.20000e+01, 3.60000e+02],\n",
       "        [1.17244e+05, 7.40000e+01, 0.00000e+00, ..., 0.00000e+00,\n",
       "         1.30000e+01, 3.60000e+02],\n",
       "        [1.32150e+04, 4.44100e+03, 3.32000e+02, ..., 0.00000e+00,\n",
       "         3.41000e+02, 1.52200e+03]], dtype=float32),\n",
       " array([[3.05053e+05, 3.80000e+01, 0.00000e+00, ..., 0.00000e+00,\n",
       "         7.88500e+03, 1.86380e+04],\n",
       "        [4.22780e+04, 2.82000e+03, 0.00000e+00, ..., 0.00000e+00,\n",
       "         0.00000e+00, 8.00000e+00],\n",
       "        [2.71790e+04, 1.03810e+04, 1.55100e+03, ..., 0.00000e+00,\n",
       "         4.00000e+00, 1.09600e+03],\n",
       "        ...,\n",
       "        [3.59050e+04, 2.50000e+01, 0.00000e+00, ..., 0.00000e+00,\n",
       "         1.06200e+03, 1.59060e+04],\n",
       "        [1.97600e+04, 3.57500e+03, 6.50000e+01, ..., 3.00000e+00,\n",
       "         2.00000e+00, 6.19000e+02],\n",
       "        [8.40200e+03, 1.68400e+03, 0.00000e+00, ..., 0.00000e+00,\n",
       "         1.14000e+02, 7.11980e+04]], dtype=float32))"
      ]
     },
     "execution_count": 38,
     "metadata": {},
     "output_type": "execute_result"
    }
   ],
   "source": [
    "test_x,train_x"
   ]
  },
  {
   "cell_type": "code",
   "execution_count": null,
   "metadata": {},
   "outputs": [],
   "source": []
  },
  {
   "cell_type": "markdown",
   "metadata": {},
   "source": [
    "#### 2.2随机森林模型的建立"
   ]
  },
  {
   "cell_type": "code",
   "execution_count": 27,
   "metadata": {},
   "outputs": [],
   "source": [
    "# RandomForestClassifier\n",
    "# 常用参数\n",
    "# n_estimators: 整数，树的个数，默认10，树越多拟合效果越好，也越容易过拟合\n",
    "# criterion: 衡量树的某次分裂好坏的指标，可选值有{'gini', 'entropy'}\n",
    "# max_features: 寻找最佳分裂时最多使用多少个特征\n",
    "#     如果为int，表示每次分裂时的最大特征数\n",
    "#     如果为float，则最大特征数为int(max_features * n_features)\n",
    "#     如果为'auto'，则max_features=sqrt(n_features)\n",
    "#     如果为'sqrt'，则max_features=sqrt(n_features)\n",
    "#     如果为'log2'，则max_features=log2(n_features)\n",
    "#     如果为None，则max_features=n_features\n",
    "# max_depth: int或None，每个树最大的深度。默认None，表示每个树节点会一直分裂直到所有\n",
    "#     的叶子节点都是纯的，或者包含min_samples_split个样本。深度越深，越容易过拟合。\n",
    "# min_samples_split: int或float，默认为2，对一个节点进行分裂时，至少需要这么多样本。\n",
    "#     int: 表示样本数\n",
    "#     float: 表示比例，即最小样本数为 ceil(min_samples_split * n_samples)\n",
    "# min_samples_leaf: int或float，默认为1，叶子节点至少需要这么多样本\n",
    "#     int: 表示样本数\n",
    "#     float: 表示比例，样本数为 ceil(min_samples_leaf * n_samples)\n",
    "\n",
    "\n",
    "\n",
    "model = RandomForestClassifier(n_estimators=15, max_depth=3, random_state=1234)    \n",
    "# random_state代表给定的随机数不会再变化"
   ]
  },
  {
   "cell_type": "code",
   "execution_count": 28,
   "metadata": {},
   "outputs": [
    {
     "data": {
      "text/plain": [
       "RandomForestClassifier(bootstrap=True, class_weight=None, criterion='gini',\n",
       "            max_depth=3, max_features='auto', max_leaf_nodes=None,\n",
       "            min_impurity_decrease=0.0, min_impurity_split=None,\n",
       "            min_samples_leaf=1, min_samples_split=2,\n",
       "            min_weight_fraction_leaf=0.0, n_estimators=15, n_jobs=1,\n",
       "            oob_score=False, random_state=1234, verbose=0,\n",
       "            warm_start=False)"
      ]
     },
     "execution_count": 28,
     "metadata": {},
     "output_type": "execute_result"
    }
   ],
   "source": [
    "model.fit(train_x, train_y)"
   ]
  },
  {
   "cell_type": "code",
   "execution_count": 39,
   "metadata": {},
   "outputs": [],
   "source": [
    "# 保存模型\n",
    "def save_model(model, label_encoder, output_file):\n",
    "    try:\n",
    "        with open(output_file, 'wb') as outfile:\n",
    "            pickle.dump({\n",
    "                'model': model,\n",
    "                'label_encoder': label_encoder\n",
    "            }, outfile)\n",
    "        return True\n",
    "    except:\n",
    "        return False"
   ]
  },
  {
   "cell_type": "code",
   "execution_count": 42,
   "metadata": {},
   "outputs": [
    {
     "data": {
      "text/plain": [
       "True"
      ]
     },
     "execution_count": 42,
     "metadata": {},
     "output_type": "execute_result"
    }
   ],
   "source": [
    "save_model(model, label_encoder, os.path.join(output_dir, 'model_rf1.pkl'))"
   ]
  },
  {
   "cell_type": "code",
   "execution_count": null,
   "metadata": {},
   "outputs": [],
   "source": []
  },
  {
   "cell_type": "code",
   "execution_count": null,
   "metadata": {},
   "outputs": [],
   "source": []
  },
  {
   "cell_type": "code",
   "execution_count": null,
   "metadata": {},
   "outputs": [],
   "source": []
  },
  {
   "cell_type": "code",
   "execution_count": null,
   "metadata": {},
   "outputs": [],
   "source": []
  },
  {
   "cell_type": "code",
   "execution_count": null,
   "metadata": {},
   "outputs": [],
   "source": []
  },
  {
   "cell_type": "code",
   "execution_count": null,
   "metadata": {},
   "outputs": [],
   "source": []
  },
  {
   "cell_type": "markdown",
   "metadata": {},
   "source": [
    "#### 2.3 评估随机森林分类器"
   ]
  },
  {
   "cell_type": "code",
   "execution_count": 43,
   "metadata": {},
   "outputs": [],
   "source": [
    "# 计算各项评价指标\n",
    "def eval_model(y_true, y_pred, labels):\n",
    "    # 计算每个分类的Precision, Recall, f1, support #最后是支持度，满足所有条件的人数占总数的比值\n",
    "    p, r, f1, s = precision_recall_fscore_support(y_true, y_pred)\n",
    "    # 计算总体的平均Precision, Recall, f1, support\n",
    "    tot_p = np.average(p, weights=s)\n",
    "    tot_r = np.average(r, weights=s)\n",
    "    tot_f1 = np.average(f1, weights=s)\n",
    "    tot_s = np.sum(s)\n",
    "    res1 = pd.DataFrame({\n",
    "        u'Label': labels,\n",
    "        u'Precision': p,\n",
    "        u'Recall': r,\n",
    "        u'F1': f1,\n",
    "        u'Support': s\n",
    "    })\n",
    "    res2 = pd.DataFrame({\n",
    "        u'Label': [u'总体'],\n",
    "        u'Precision': [tot_p],\n",
    "        u'Recall': [tot_r],\n",
    "        u'F1': [tot_f1],\n",
    "        u'Support': [tot_s]\n",
    "    })\n",
    "    res2.index = [999]\n",
    "    res = pd.concat([res1, res2])\n",
    "    # 计算混淆矩阵\n",
    "    conf_mat = pd.DataFrame(confusion_matrix(y_true, y_pred), columns=labels, index=labels)\n",
    "    return conf_mat, res[[u'Label', u'Precision', u'Recall', u'F1', u'Support']]"
   ]
  },
  {
   "cell_type": "code",
   "execution_count": 69,
   "metadata": {},
   "outputs": [
    {
     "data": {
      "text/plain": [
       "array([3, 3, 2, 0, 2, 3, 2, 3, 0, 0, 2, 1, 3, 2, 1, 3, 0, 0, 2, 0, 3, 2,\n",
       "       1, 3, 2, 2, 3, 0, 2, 0, 3, 2, 3, 2, 2, 1, 1, 0, 3, 2, 0, 3, 0, 1,\n",
       "       1, 1, 3], dtype=int64)"
      ]
     },
     "execution_count": 69,
     "metadata": {},
     "output_type": "execute_result"
    }
   ],
   "source": [
    "# 在测试集上计算每个图片的预测分类\n",
    "y_pred = model.predict(test_x)\n",
    "y_pred"
   ]
  },
  {
   "cell_type": "code",
   "execution_count": 45,
   "metadata": {},
   "outputs": [],
   "source": [
    "# 评估模型\n",
    "conf_mat, evalues = eval_model(test_y, y_pred,label_encoder.classes_)\n",
    "'''\n",
    "test_y  #测试集\n",
    "y_pred  #特征分类的预测集\n",
    "'''\n"
   ]
  },
  {
   "cell_type": "code",
   "execution_count": 46,
   "metadata": {},
   "outputs": [
    {
     "data": {
      "text/html": [
       "<div>\n",
       "<style scoped>\n",
       "    .dataframe tbody tr th:only-of-type {\n",
       "        vertical-align: middle;\n",
       "    }\n",
       "\n",
       "    .dataframe tbody tr th {\n",
       "        vertical-align: top;\n",
       "    }\n",
       "\n",
       "    .dataframe thead th {\n",
       "        text-align: right;\n",
       "    }\n",
       "</style>\n",
       "<table border=\"1\" class=\"dataframe\">\n",
       "  <thead>\n",
       "    <tr style=\"text-align: right;\">\n",
       "      <th></th>\n",
       "      <th>crocus</th>\n",
       "      <th>daisy</th>\n",
       "      <th>pansy</th>\n",
       "      <th>sunflower</th>\n",
       "    </tr>\n",
       "  </thead>\n",
       "  <tbody>\n",
       "    <tr>\n",
       "      <th>crocus</th>\n",
       "      <td>4</td>\n",
       "      <td>3</td>\n",
       "      <td>3</td>\n",
       "      <td>0</td>\n",
       "    </tr>\n",
       "    <tr>\n",
       "      <th>daisy</th>\n",
       "      <td>1</td>\n",
       "      <td>11</td>\n",
       "      <td>0</td>\n",
       "      <td>0</td>\n",
       "    </tr>\n",
       "    <tr>\n",
       "      <th>pansy</th>\n",
       "      <td>1</td>\n",
       "      <td>2</td>\n",
       "      <td>8</td>\n",
       "      <td>0</td>\n",
       "    </tr>\n",
       "    <tr>\n",
       "      <th>sunflower</th>\n",
       "      <td>0</td>\n",
       "      <td>1</td>\n",
       "      <td>0</td>\n",
       "      <td>13</td>\n",
       "    </tr>\n",
       "  </tbody>\n",
       "</table>\n",
       "</div>"
      ],
      "text/plain": [
       "           crocus  daisy  pansy  sunflower\n",
       "crocus          4      3      3          0\n",
       "daisy           1     11      0          0\n",
       "pansy           1      2      8          0\n",
       "sunflower       0      1      0         13"
      ]
     },
     "execution_count": 46,
     "metadata": {},
     "output_type": "execute_result"
    }
   ],
   "source": [
    "# 混淆矩阵\n",
    "conf_mat"
   ]
  },
  {
   "cell_type": "code",
   "execution_count": 70,
   "metadata": {},
   "outputs": [
    {
     "data": {
      "text/html": [
       "<div>\n",
       "<style scoped>\n",
       "    .dataframe tbody tr th:only-of-type {\n",
       "        vertical-align: middle;\n",
       "    }\n",
       "\n",
       "    .dataframe tbody tr th {\n",
       "        vertical-align: top;\n",
       "    }\n",
       "\n",
       "    .dataframe thead th {\n",
       "        text-align: right;\n",
       "    }\n",
       "</style>\n",
       "<table border=\"1\" class=\"dataframe\">\n",
       "  <thead>\n",
       "    <tr style=\"text-align: right;\">\n",
       "      <th></th>\n",
       "      <th>Label</th>\n",
       "      <th>Precision</th>\n",
       "      <th>Recall</th>\n",
       "      <th>F1</th>\n",
       "      <th>Support</th>\n",
       "    </tr>\n",
       "  </thead>\n",
       "  <tbody>\n",
       "    <tr>\n",
       "      <th>0</th>\n",
       "      <td>crocus</td>\n",
       "      <td>0.545455</td>\n",
       "      <td>0.600000</td>\n",
       "      <td>0.571429</td>\n",
       "      <td>10</td>\n",
       "    </tr>\n",
       "    <tr>\n",
       "      <th>1</th>\n",
       "      <td>daisy</td>\n",
       "      <td>0.750000</td>\n",
       "      <td>0.500000</td>\n",
       "      <td>0.600000</td>\n",
       "      <td>12</td>\n",
       "    </tr>\n",
       "    <tr>\n",
       "      <th>2</th>\n",
       "      <td>pansy</td>\n",
       "      <td>0.714286</td>\n",
       "      <td>0.909091</td>\n",
       "      <td>0.800000</td>\n",
       "      <td>11</td>\n",
       "    </tr>\n",
       "    <tr>\n",
       "      <th>3</th>\n",
       "      <td>sunflower</td>\n",
       "      <td>1.000000</td>\n",
       "      <td>1.000000</td>\n",
       "      <td>1.000000</td>\n",
       "      <td>14</td>\n",
       "    </tr>\n",
       "    <tr>\n",
       "      <th>999</th>\n",
       "      <td>总体</td>\n",
       "      <td>0.772589</td>\n",
       "      <td>0.765957</td>\n",
       "      <td>0.759878</td>\n",
       "      <td>47</td>\n",
       "    </tr>\n",
       "  </tbody>\n",
       "</table>\n",
       "</div>"
      ],
      "text/plain": [
       "         Label  Precision    Recall        F1  Support\n",
       "0       crocus   0.545455  0.600000  0.571429       10\n",
       "1        daisy   0.750000  0.500000  0.600000       12\n",
       "2        pansy   0.714286  0.909091  0.800000       11\n",
       "3    sunflower   1.000000  1.000000  1.000000       14\n",
       "999         总体   0.772589  0.765957  0.759878       47"
      ]
     },
     "execution_count": 70,
     "metadata": {},
     "output_type": "execute_result"
    }
   ],
   "source": [
    "evalues  #各类分数的平均值，最后的支持度是计算总和"
   ]
  },
  {
   "cell_type": "markdown",
   "metadata": {},
   "source": [
    "#### 2.4 使用逻辑回归训练分类器"
   ]
  },
  {
   "cell_type": "code",
   "execution_count": 47,
   "metadata": {},
   "outputs": [
    {
     "data": {
      "text/plain": [
       "LogisticRegression(C=1, class_weight=None, dual=False, fit_intercept=True,\n",
       "          intercept_scaling=1, max_iter=100, multi_class='ovr', n_jobs=1,\n",
       "          penalty='l2', random_state=1234, solver='liblinear', tol=0.0001,\n",
       "          verbose=0, warm_start=False)"
      ]
     },
     "execution_count": 47,
     "metadata": {},
     "output_type": "execute_result"
    }
   ],
   "source": [
    "model = LogisticRegression(penalty='l2', C=1, random_state=1234)\n",
    "model.fit(train_x, train_y)"
   ]
  },
  {
   "cell_type": "code",
   "execution_count": 48,
   "metadata": {},
   "outputs": [
    {
     "data": {
      "text/plain": [
       "True"
      ]
     },
     "execution_count": 48,
     "metadata": {},
     "output_type": "execute_result"
    }
   ],
   "source": [
    "save_model(model, label_encoder, os.path.join(output_dir, 'model_lr1.pkl'))"
   ]
  },
  {
   "cell_type": "markdown",
   "metadata": {},
   "source": [
    "#### 2.5 评估逻辑回归分类器"
   ]
  },
  {
   "cell_type": "code",
   "execution_count": 49,
   "metadata": {},
   "outputs": [],
   "source": [
    "# 在测试集上计算每个图片的预测分类\n",
    "y_pred = model.predict(test_x)\n",
    "# 评估模型\n",
    "conf_mat, evalues = eval_model(test_y, y_pred, label_encoder.classes_)"
   ]
  },
  {
   "cell_type": "code",
   "execution_count": 50,
   "metadata": {},
   "outputs": [
    {
     "data": {
      "text/html": [
       "<div>\n",
       "<style scoped>\n",
       "    .dataframe tbody tr th:only-of-type {\n",
       "        vertical-align: middle;\n",
       "    }\n",
       "\n",
       "    .dataframe tbody tr th {\n",
       "        vertical-align: top;\n",
       "    }\n",
       "\n",
       "    .dataframe thead th {\n",
       "        text-align: right;\n",
       "    }\n",
       "</style>\n",
       "<table border=\"1\" class=\"dataframe\">\n",
       "  <thead>\n",
       "    <tr style=\"text-align: right;\">\n",
       "      <th></th>\n",
       "      <th>crocus</th>\n",
       "      <th>daisy</th>\n",
       "      <th>pansy</th>\n",
       "      <th>sunflower</th>\n",
       "    </tr>\n",
       "  </thead>\n",
       "  <tbody>\n",
       "    <tr>\n",
       "      <th>crocus</th>\n",
       "      <td>4</td>\n",
       "      <td>1</td>\n",
       "      <td>5</td>\n",
       "      <td>0</td>\n",
       "    </tr>\n",
       "    <tr>\n",
       "      <th>daisy</th>\n",
       "      <td>1</td>\n",
       "      <td>10</td>\n",
       "      <td>1</td>\n",
       "      <td>0</td>\n",
       "    </tr>\n",
       "    <tr>\n",
       "      <th>pansy</th>\n",
       "      <td>2</td>\n",
       "      <td>1</td>\n",
       "      <td>8</td>\n",
       "      <td>0</td>\n",
       "    </tr>\n",
       "    <tr>\n",
       "      <th>sunflower</th>\n",
       "      <td>0</td>\n",
       "      <td>0</td>\n",
       "      <td>1</td>\n",
       "      <td>13</td>\n",
       "    </tr>\n",
       "  </tbody>\n",
       "</table>\n",
       "</div>"
      ],
      "text/plain": [
       "           crocus  daisy  pansy  sunflower\n",
       "crocus          4      1      5          0\n",
       "daisy           1     10      1          0\n",
       "pansy           2      1      8          0\n",
       "sunflower       0      0      1         13"
      ]
     },
     "execution_count": 50,
     "metadata": {},
     "output_type": "execute_result"
    }
   ],
   "source": [
    "# 混淆矩阵\n",
    "conf_mat"
   ]
  },
  {
   "cell_type": "code",
   "execution_count": 51,
   "metadata": {},
   "outputs": [
    {
     "data": {
      "text/html": [
       "<div>\n",
       "<style scoped>\n",
       "    .dataframe tbody tr th:only-of-type {\n",
       "        vertical-align: middle;\n",
       "    }\n",
       "\n",
       "    .dataframe tbody tr th {\n",
       "        vertical-align: top;\n",
       "    }\n",
       "\n",
       "    .dataframe thead th {\n",
       "        text-align: right;\n",
       "    }\n",
       "</style>\n",
       "<table border=\"1\" class=\"dataframe\">\n",
       "  <thead>\n",
       "    <tr style=\"text-align: right;\">\n",
       "      <th></th>\n",
       "      <th>Label</th>\n",
       "      <th>Precision</th>\n",
       "      <th>Recall</th>\n",
       "      <th>F1</th>\n",
       "      <th>Support</th>\n",
       "    </tr>\n",
       "  </thead>\n",
       "  <tbody>\n",
       "    <tr>\n",
       "      <th>0</th>\n",
       "      <td>crocus</td>\n",
       "      <td>0.571429</td>\n",
       "      <td>0.400000</td>\n",
       "      <td>0.470588</td>\n",
       "      <td>10</td>\n",
       "    </tr>\n",
       "    <tr>\n",
       "      <th>1</th>\n",
       "      <td>daisy</td>\n",
       "      <td>0.833333</td>\n",
       "      <td>0.833333</td>\n",
       "      <td>0.833333</td>\n",
       "      <td>12</td>\n",
       "    </tr>\n",
       "    <tr>\n",
       "      <th>2</th>\n",
       "      <td>pansy</td>\n",
       "      <td>0.533333</td>\n",
       "      <td>0.727273</td>\n",
       "      <td>0.615385</td>\n",
       "      <td>11</td>\n",
       "    </tr>\n",
       "    <tr>\n",
       "      <th>3</th>\n",
       "      <td>sunflower</td>\n",
       "      <td>1.000000</td>\n",
       "      <td>0.928571</td>\n",
       "      <td>0.962963</td>\n",
       "      <td>14</td>\n",
       "    </tr>\n",
       "    <tr>\n",
       "      <th>999</th>\n",
       "      <td>总体</td>\n",
       "      <td>0.757042</td>\n",
       "      <td>0.744681</td>\n",
       "      <td>0.743757</td>\n",
       "      <td>47</td>\n",
       "    </tr>\n",
       "  </tbody>\n",
       "</table>\n",
       "</div>"
      ],
      "text/plain": [
       "         Label  Precision    Recall        F1  Support\n",
       "0       crocus   0.571429  0.400000  0.470588       10\n",
       "1        daisy   0.833333  0.833333  0.833333       12\n",
       "2        pansy   0.533333  0.727273  0.615385       11\n",
       "3    sunflower   1.000000  0.928571  0.962963       14\n",
       "999         总体   0.757042  0.744681  0.743757       47"
      ]
     },
     "execution_count": 51,
     "metadata": {},
     "output_type": "execute_result"
    }
   ],
   "source": [
    "# 各项评价指标\n",
    "evalues"
   ]
  },
  {
   "cell_type": "markdown",
   "metadata": {},
   "source": [
    "# 3 使用Lab颜色直方图做特征训练分类器"
   ]
  },
  {
   "cell_type": "markdown",
   "metadata": {},
   "source": [
    "#### 3.1 计算L\\*a\\*b\\*颜色直方图"
   ]
  },
  {
   "cell_type": "code",
   "execution_count": 52,
   "metadata": {},
   "outputs": [],
   "source": [
    "# 定义特征转化函数\n",
    "def transform(img):\n",
    "    # 将图片从BGR模式转化为Lab模式\n",
    "    img = cv2.cvtColor(img, cv2.COLOR_BGR2LAB)\n",
    "    # 每个通道等分为8组后计算直方图\n",
    "    hist = cv2.calcHist([img], [0,1,2], None, [8]*3, [0,256]*3)\n",
    "    # 将8x8x8的多维数组拉平\n",
    "    return hist.ravel()"
   ]
  },
  {
   "cell_type": "code",
   "execution_count": 53,
   "metadata": {},
   "outputs": [],
   "source": [
    "# 提取每个图像的直方图特征\n",
    "x = np.row_stack([transform(img) for img in images])"
   ]
  },
  {
   "cell_type": "code",
   "execution_count": 54,
   "metadata": {},
   "outputs": [],
   "source": [
    "train_x = x[train_idx, :]\n",
    "test_x = x[test_idx, :]"
   ]
  },
  {
   "cell_type": "markdown",
   "metadata": {},
   "source": [
    "#### 3.2 使用随机森林训练分类器"
   ]
  },
  {
   "cell_type": "code",
   "execution_count": 55,
   "metadata": {},
   "outputs": [
    {
     "data": {
      "text/plain": [
       "RandomForestClassifier(bootstrap=True, class_weight=None, criterion='gini',\n",
       "            max_depth=3, max_features='auto', max_leaf_nodes=None,\n",
       "            min_impurity_decrease=0.0, min_impurity_split=None,\n",
       "            min_samples_leaf=1, min_samples_split=2,\n",
       "            min_weight_fraction_leaf=0.0, n_estimators=15, n_jobs=1,\n",
       "            oob_score=False, random_state=1234, verbose=0,\n",
       "            warm_start=False)"
      ]
     },
     "execution_count": 55,
     "metadata": {},
     "output_type": "execute_result"
    }
   ],
   "source": [
    "model = RandomForestClassifier(n_estimators=15, max_depth=3, random_state=1234)\n",
    "model.fit(train_x, train_y)"
   ]
  },
  {
   "cell_type": "code",
   "execution_count": 56,
   "metadata": {},
   "outputs": [
    {
     "data": {
      "text/plain": [
       "True"
      ]
     },
     "execution_count": 56,
     "metadata": {},
     "output_type": "execute_result"
    }
   ],
   "source": [
    "save_model(model, label_encoder, os.path.join(output_dir, 'model_rf2.pkl'))"
   ]
  },
  {
   "cell_type": "markdown",
   "metadata": {},
   "source": [
    "#### 3.3 评估随机森林分类器"
   ]
  },
  {
   "cell_type": "code",
   "execution_count": 57,
   "metadata": {},
   "outputs": [],
   "source": [
    "# 在测试集上计算每个图片的预测分类\n",
    "y_pred = model.predict(test_x)\n",
    "# 评估模型\n",
    "conf_mat, evalues = eval_model(test_y, y_pred, label_encoder.classes_)"
   ]
  },
  {
   "cell_type": "code",
   "execution_count": 58,
   "metadata": {},
   "outputs": [
    {
     "data": {
      "text/html": [
       "<div>\n",
       "<style scoped>\n",
       "    .dataframe tbody tr th:only-of-type {\n",
       "        vertical-align: middle;\n",
       "    }\n",
       "\n",
       "    .dataframe tbody tr th {\n",
       "        vertical-align: top;\n",
       "    }\n",
       "\n",
       "    .dataframe thead th {\n",
       "        text-align: right;\n",
       "    }\n",
       "</style>\n",
       "<table border=\"1\" class=\"dataframe\">\n",
       "  <thead>\n",
       "    <tr style=\"text-align: right;\">\n",
       "      <th></th>\n",
       "      <th>crocus</th>\n",
       "      <th>daisy</th>\n",
       "      <th>pansy</th>\n",
       "      <th>sunflower</th>\n",
       "    </tr>\n",
       "  </thead>\n",
       "  <tbody>\n",
       "    <tr>\n",
       "      <th>crocus</th>\n",
       "      <td>4</td>\n",
       "      <td>3</td>\n",
       "      <td>3</td>\n",
       "      <td>0</td>\n",
       "    </tr>\n",
       "    <tr>\n",
       "      <th>daisy</th>\n",
       "      <td>0</td>\n",
       "      <td>12</td>\n",
       "      <td>0</td>\n",
       "      <td>0</td>\n",
       "    </tr>\n",
       "    <tr>\n",
       "      <th>pansy</th>\n",
       "      <td>1</td>\n",
       "      <td>1</td>\n",
       "      <td>8</td>\n",
       "      <td>1</td>\n",
       "    </tr>\n",
       "    <tr>\n",
       "      <th>sunflower</th>\n",
       "      <td>0</td>\n",
       "      <td>0</td>\n",
       "      <td>0</td>\n",
       "      <td>14</td>\n",
       "    </tr>\n",
       "  </tbody>\n",
       "</table>\n",
       "</div>"
      ],
      "text/plain": [
       "           crocus  daisy  pansy  sunflower\n",
       "crocus          4      3      3          0\n",
       "daisy           0     12      0          0\n",
       "pansy           1      1      8          1\n",
       "sunflower       0      0      0         14"
      ]
     },
     "execution_count": 58,
     "metadata": {},
     "output_type": "execute_result"
    }
   ],
   "source": [
    "# 混淆矩阵\n",
    "conf_mat"
   ]
  },
  {
   "cell_type": "code",
   "execution_count": 59,
   "metadata": {},
   "outputs": [
    {
     "data": {
      "text/html": [
       "<div>\n",
       "<style scoped>\n",
       "    .dataframe tbody tr th:only-of-type {\n",
       "        vertical-align: middle;\n",
       "    }\n",
       "\n",
       "    .dataframe tbody tr th {\n",
       "        vertical-align: top;\n",
       "    }\n",
       "\n",
       "    .dataframe thead th {\n",
       "        text-align: right;\n",
       "    }\n",
       "</style>\n",
       "<table border=\"1\" class=\"dataframe\">\n",
       "  <thead>\n",
       "    <tr style=\"text-align: right;\">\n",
       "      <th></th>\n",
       "      <th>Label</th>\n",
       "      <th>Precision</th>\n",
       "      <th>Recall</th>\n",
       "      <th>F1</th>\n",
       "      <th>Support</th>\n",
       "    </tr>\n",
       "  </thead>\n",
       "  <tbody>\n",
       "    <tr>\n",
       "      <th>0</th>\n",
       "      <td>crocus</td>\n",
       "      <td>0.800000</td>\n",
       "      <td>0.400000</td>\n",
       "      <td>0.533333</td>\n",
       "      <td>10</td>\n",
       "    </tr>\n",
       "    <tr>\n",
       "      <th>1</th>\n",
       "      <td>daisy</td>\n",
       "      <td>0.750000</td>\n",
       "      <td>1.000000</td>\n",
       "      <td>0.857143</td>\n",
       "      <td>12</td>\n",
       "    </tr>\n",
       "    <tr>\n",
       "      <th>2</th>\n",
       "      <td>pansy</td>\n",
       "      <td>0.727273</td>\n",
       "      <td>0.727273</td>\n",
       "      <td>0.727273</td>\n",
       "      <td>11</td>\n",
       "    </tr>\n",
       "    <tr>\n",
       "      <th>3</th>\n",
       "      <td>sunflower</td>\n",
       "      <td>0.933333</td>\n",
       "      <td>1.000000</td>\n",
       "      <td>0.965517</td>\n",
       "      <td>14</td>\n",
       "    </tr>\n",
       "    <tr>\n",
       "      <th>999</th>\n",
       "      <td>总体</td>\n",
       "      <td>0.809929</td>\n",
       "      <td>0.808511</td>\n",
       "      <td>0.790134</td>\n",
       "      <td>47</td>\n",
       "    </tr>\n",
       "  </tbody>\n",
       "</table>\n",
       "</div>"
      ],
      "text/plain": [
       "         Label  Precision    Recall        F1  Support\n",
       "0       crocus   0.800000  0.400000  0.533333       10\n",
       "1        daisy   0.750000  1.000000  0.857143       12\n",
       "2        pansy   0.727273  0.727273  0.727273       11\n",
       "3    sunflower   0.933333  1.000000  0.965517       14\n",
       "999         总体   0.809929  0.808511  0.790134       47"
      ]
     },
     "execution_count": 59,
     "metadata": {},
     "output_type": "execute_result"
    }
   ],
   "source": [
    "# 各项评价指标\n",
    "evalues"
   ]
  },
  {
   "cell_type": "markdown",
   "metadata": {},
   "source": [
    "#### 3.4 使用逻辑回归训练分类器"
   ]
  },
  {
   "cell_type": "code",
   "execution_count": 60,
   "metadata": {},
   "outputs": [
    {
     "data": {
      "text/plain": [
       "LogisticRegression(C=1, class_weight=None, dual=False, fit_intercept=True,\n",
       "          intercept_scaling=1, max_iter=100, multi_class='ovr', n_jobs=1,\n",
       "          penalty='l2', random_state=1234, solver='liblinear', tol=0.0001,\n",
       "          verbose=0, warm_start=False)"
      ]
     },
     "execution_count": 60,
     "metadata": {},
     "output_type": "execute_result"
    }
   ],
   "source": [
    "model = LogisticRegression(penalty='l2', C=1, random_state=1234)\n",
    "model.fit(train_x, train_y)"
   ]
  },
  {
   "cell_type": "code",
   "execution_count": 61,
   "metadata": {},
   "outputs": [
    {
     "data": {
      "text/plain": [
       "True"
      ]
     },
     "execution_count": 61,
     "metadata": {},
     "output_type": "execute_result"
    }
   ],
   "source": [
    "save_model(model, label_encoder, os.path.join(output_dir, 'model_lr2.pkl'))"
   ]
  },
  {
   "cell_type": "markdown",
   "metadata": {},
   "source": [
    "#### 3.5 评估逻辑回归分类器"
   ]
  },
  {
   "cell_type": "code",
   "execution_count": 62,
   "metadata": {},
   "outputs": [],
   "source": [
    "# 在测试集上计算每个图片的预测分类\n",
    "y_pred = model.predict(test_x)\n",
    "# 评估模型\n",
    "conf_mat, evalues = eval_model(test_y, y_pred, label_encoder.classes_)"
   ]
  },
  {
   "cell_type": "code",
   "execution_count": 63,
   "metadata": {},
   "outputs": [
    {
     "data": {
      "text/html": [
       "<div>\n",
       "<style scoped>\n",
       "    .dataframe tbody tr th:only-of-type {\n",
       "        vertical-align: middle;\n",
       "    }\n",
       "\n",
       "    .dataframe tbody tr th {\n",
       "        vertical-align: top;\n",
       "    }\n",
       "\n",
       "    .dataframe thead th {\n",
       "        text-align: right;\n",
       "    }\n",
       "</style>\n",
       "<table border=\"1\" class=\"dataframe\">\n",
       "  <thead>\n",
       "    <tr style=\"text-align: right;\">\n",
       "      <th></th>\n",
       "      <th>crocus</th>\n",
       "      <th>daisy</th>\n",
       "      <th>pansy</th>\n",
       "      <th>sunflower</th>\n",
       "    </tr>\n",
       "  </thead>\n",
       "  <tbody>\n",
       "    <tr>\n",
       "      <th>crocus</th>\n",
       "      <td>6</td>\n",
       "      <td>2</td>\n",
       "      <td>2</td>\n",
       "      <td>0</td>\n",
       "    </tr>\n",
       "    <tr>\n",
       "      <th>daisy</th>\n",
       "      <td>4</td>\n",
       "      <td>6</td>\n",
       "      <td>2</td>\n",
       "      <td>0</td>\n",
       "    </tr>\n",
       "    <tr>\n",
       "      <th>pansy</th>\n",
       "      <td>1</td>\n",
       "      <td>0</td>\n",
       "      <td>10</td>\n",
       "      <td>0</td>\n",
       "    </tr>\n",
       "    <tr>\n",
       "      <th>sunflower</th>\n",
       "      <td>0</td>\n",
       "      <td>0</td>\n",
       "      <td>0</td>\n",
       "      <td>14</td>\n",
       "    </tr>\n",
       "  </tbody>\n",
       "</table>\n",
       "</div>"
      ],
      "text/plain": [
       "           crocus  daisy  pansy  sunflower\n",
       "crocus          6      2      2          0\n",
       "daisy           4      6      2          0\n",
       "pansy           1      0     10          0\n",
       "sunflower       0      0      0         14"
      ]
     },
     "execution_count": 63,
     "metadata": {},
     "output_type": "execute_result"
    }
   ],
   "source": [
    "# 混淆矩阵\n",
    "conf_mat"
   ]
  },
  {
   "cell_type": "code",
   "execution_count": 64,
   "metadata": {},
   "outputs": [
    {
     "data": {
      "text/html": [
       "<div>\n",
       "<style scoped>\n",
       "    .dataframe tbody tr th:only-of-type {\n",
       "        vertical-align: middle;\n",
       "    }\n",
       "\n",
       "    .dataframe tbody tr th {\n",
       "        vertical-align: top;\n",
       "    }\n",
       "\n",
       "    .dataframe thead th {\n",
       "        text-align: right;\n",
       "    }\n",
       "</style>\n",
       "<table border=\"1\" class=\"dataframe\">\n",
       "  <thead>\n",
       "    <tr style=\"text-align: right;\">\n",
       "      <th></th>\n",
       "      <th>Label</th>\n",
       "      <th>Precision</th>\n",
       "      <th>Recall</th>\n",
       "      <th>F1</th>\n",
       "      <th>Support</th>\n",
       "    </tr>\n",
       "  </thead>\n",
       "  <tbody>\n",
       "    <tr>\n",
       "      <th>0</th>\n",
       "      <td>crocus</td>\n",
       "      <td>0.545455</td>\n",
       "      <td>0.600000</td>\n",
       "      <td>0.571429</td>\n",
       "      <td>10</td>\n",
       "    </tr>\n",
       "    <tr>\n",
       "      <th>1</th>\n",
       "      <td>daisy</td>\n",
       "      <td>0.750000</td>\n",
       "      <td>0.500000</td>\n",
       "      <td>0.600000</td>\n",
       "      <td>12</td>\n",
       "    </tr>\n",
       "    <tr>\n",
       "      <th>2</th>\n",
       "      <td>pansy</td>\n",
       "      <td>0.714286</td>\n",
       "      <td>0.909091</td>\n",
       "      <td>0.800000</td>\n",
       "      <td>11</td>\n",
       "    </tr>\n",
       "    <tr>\n",
       "      <th>3</th>\n",
       "      <td>sunflower</td>\n",
       "      <td>1.000000</td>\n",
       "      <td>1.000000</td>\n",
       "      <td>1.000000</td>\n",
       "      <td>14</td>\n",
       "    </tr>\n",
       "    <tr>\n",
       "      <th>999</th>\n",
       "      <td>总体</td>\n",
       "      <td>0.772589</td>\n",
       "      <td>0.765957</td>\n",
       "      <td>0.759878</td>\n",
       "      <td>47</td>\n",
       "    </tr>\n",
       "  </tbody>\n",
       "</table>\n",
       "</div>"
      ],
      "text/plain": [
       "         Label  Precision    Recall        F1  Support\n",
       "0       crocus   0.545455  0.600000  0.571429       10\n",
       "1        daisy   0.750000  0.500000  0.600000       12\n",
       "2        pansy   0.714286  0.909091  0.800000       11\n",
       "3    sunflower   1.000000  1.000000  1.000000       14\n",
       "999         总体   0.772589  0.765957  0.759878       47"
      ]
     },
     "execution_count": 64,
     "metadata": {},
     "output_type": "execute_result"
    }
   ],
   "source": [
    "# 各项评价指标\n",
    "evalues"
   ]
  },
  {
   "cell_type": "markdown",
   "metadata": {},
   "source": [
    "# 4 使用分类器对新图像分类 "
   ]
  },
  {
   "cell_type": "code",
   "execution_count": 65,
   "metadata": {},
   "outputs": [],
   "source": [
    "# 定义一个用于分类的Predictor类\n",
    "class Predictor(object):\n",
    "    \n",
    "    def __init__(self, model_file):\n",
    "        with open(model_file, 'rb') as infile:\n",
    "            self.loaded = pickle.load(infile)\n",
    "        self.model = self.loaded['model']\n",
    "        self.label_encoder = self.loaded['label_encoder']\n",
    "\n",
    "    # 实现分类逻辑\n",
    "    def predict(self, img_file):\n",
    "        # 读取图像文件\n",
    "        img = cv2.imread(img_file, cv2.IMREAD_COLOR)\n",
    "        # 颜色空间转化为Lab\n",
    "        img = cv2.cvtColor(img, cv2.COLOR_BGR2LAB)\n",
    "        # 计算颜色直方图\n",
    "        x = cv2.calcHist([img], [0,1,2], None, [8]*3, [0,256]*3)   # 返回(8, 8, 8)的ndarray\n",
    "        x = x.reshape((1, -1))    # 变形为(1, 512)的ndarray\n",
    "        # 预测分类\n",
    "        y = self.model.predict(x)\n",
    "        # 转化为原始标签\n",
    "        label = self.label_encoder.inverse_transform(y)  #翻转\n",
    "        return label"
   ]
  },
  {
   "cell_type": "code",
   "execution_count": 66,
   "metadata": {},
   "outputs": [],
   "source": [
    "predictor = Predictor(os.path.join(output_dir, 'model_rf2.pkl'))"
   ]
  },
  {
   "cell_type": "code",
   "execution_count": 68,
   "metadata": {},
   "outputs": [
    {
     "name": "stderr",
     "output_type": "stream",
     "text": [
      "D:\\Anaconda3\\haha\\lib\\site-packages\\sklearn\\preprocessing\\label.py:151: DeprecationWarning: The truth value of an empty array is ambiguous. Returning False, but in future this will result in an error. Use `array.size > 0` to check that an array is not empty.\n",
      "  if diff:\n"
     ]
    },
    {
     "data": {
      "text/plain": [
       "array(['crocus'], dtype='<U9')"
      ]
     },
     "execution_count": 68,
     "metadata": {},
     "output_type": "execute_result"
    }
   ],
   "source": [
    "# 对新图片进行分类\n",
    "predictor.predict('data/images/image_crocus_0001.png')"
   ]
  },
  {
   "cell_type": "code",
   "execution_count": 5,
   "metadata": {},
   "outputs": [
    {
     "data": {
      "text/plain": [
       "(-0.5, 499.5, 685.5, -0.5)"
      ]
     },
     "execution_count": 5,
     "metadata": {},
     "output_type": "execute_result"
    },
    {
     "data": {
      "image/png": "[encoded data removed]",
      "text/plain": [
       "<matplotlib.figure.Figure at 0x8edba20>"
      ]
     },
     "metadata": {},
     "output_type": "display_data"
    }
   ],
   "source": [
    "import cv2\n",
    "from matplotlib import pyplot as plt\n",
    "pic_file = 'data/images/image_crocus_0001.png'\n",
    "\n",
    "img_bgr = cv2.imread(pic_file,cv2.IMREAD_COLOR)\n",
    "plt.imshow(img_bgr, cmap='gray')\n",
    "plt.axis('off')"
   ]
  },
  {
   "cell_type": "code",
   "execution_count": null,
   "metadata": {},
   "outputs": [],
   "source": []
  }
 ],
 "metadata": {
  "kernelspec": {
   "display_name": "Python 3",
   "language": "python",
   "name": "python3"
  },
  "language_info": {
   "codemirror_mode": {
    "name": "ipython",
    "version": 3
   },
   "file_extension": ".py",
   "mimetype": "text/x-python",
   "name": "python",
   "nbconvert_exporter": "python",
   "pygments_lexer": "ipython3",
   "version": "3.6.4"
  }
 },
 "nbformat": 4,
 "nbformat_minor": 2
}
