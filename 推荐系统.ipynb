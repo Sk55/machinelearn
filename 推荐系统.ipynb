{
 "cells": [
  {
   "cell_type": "markdown",
   "metadata": {},
   "source": [
    "### 数据及介绍\n",
    "##### MovieLens是推荐系统常用的数据集\n",
    "##### MovieLens数据集中，用户对自己看过的电影进行评分，分值为1-5.\n",
    "##### MovieLens包括两个大小不同的库。适用于不同规模的算法，\n",
    "     小规模是943个用户对1682部电影做约10000次评分的数据\n",
    "     大规模的是6040个用户对3900部电影做大约100万次评分\n",
    "    "
   ]
  },
  {
   "cell_type": "code",
   "execution_count": null,
   "metadata": {},
   "outputs": [],
   "source": []
  },
  {
   "cell_type": "code",
   "execution_count": 2,
   "metadata": {},
   "outputs": [
    {
     "data": {
      "text/html": [
       "<div>\n",
       "<style scoped>\n",
       "    .dataframe tbody tr th:only-of-type {\n",
       "        vertical-align: middle;\n",
       "    }\n",
       "\n",
       "    .dataframe tbody tr th {\n",
       "        vertical-align: top;\n",
       "    }\n",
       "\n",
       "    .dataframe thead th {\n",
       "        text-align: right;\n",
       "    }\n",
       "</style>\n",
       "<table border=\"1\" class=\"dataframe\">\n",
       "  <thead>\n",
       "    <tr style=\"text-align: right;\">\n",
       "      <th></th>\n",
       "      <th>user_id</th>\n",
       "      <th>item_id</th>\n",
       "      <th>rating</th>\n",
       "      <th>timesamp</th>\n",
       "    </tr>\n",
       "  </thead>\n",
       "  <tbody>\n",
       "    <tr>\n",
       "      <th>0</th>\n",
       "      <td>196</td>\n",
       "      <td>242</td>\n",
       "      <td>3</td>\n",
       "      <td>881250949</td>\n",
       "    </tr>\n",
       "    <tr>\n",
       "      <th>1</th>\n",
       "      <td>186</td>\n",
       "      <td>302</td>\n",
       "      <td>3</td>\n",
       "      <td>891717742</td>\n",
       "    </tr>\n",
       "    <tr>\n",
       "      <th>2</th>\n",
       "      <td>22</td>\n",
       "      <td>377</td>\n",
       "      <td>1</td>\n",
       "      <td>878887116</td>\n",
       "    </tr>\n",
       "    <tr>\n",
       "      <th>3</th>\n",
       "      <td>244</td>\n",
       "      <td>51</td>\n",
       "      <td>2</td>\n",
       "      <td>880606923</td>\n",
       "    </tr>\n",
       "    <tr>\n",
       "      <th>4</th>\n",
       "      <td>166</td>\n",
       "      <td>346</td>\n",
       "      <td>1</td>\n",
       "      <td>886397596</td>\n",
       "    </tr>\n",
       "  </tbody>\n",
       "</table>\n",
       "</div>"
      ],
      "text/plain": [
       "   user_id  item_id  rating   timesamp\n",
       "0      196      242       3  881250949\n",
       "1      186      302       3  891717742\n",
       "2       22      377       1  878887116\n",
       "3      244       51       2  880606923\n",
       "4      166      346       1  886397596"
      ]
     },
     "execution_count": 2,
     "metadata": {},
     "output_type": "execute_result"
    }
   ],
   "source": [
    "from IPython.core.interactiveshell import InteractiveShell\n",
    "InteractiveShell.ast_node_interactivity = \"all\"\n",
    "%matplotlib inline\n",
    "import numpy as np\n",
    "import pandas as pd\n",
    "header = [\"user_id\",\"item_id\",\"rating\",\"timesamp\"]\n",
    "src_data = pd.read_csv(\"./ml-100k/u.data\",sep='\\t',names=header)\n",
    "src_data.head()"
   ]
  },
  {
   "cell_type": "markdown",
   "metadata": {},
   "source": [
    "### 数据探索"
   ]
  },
  {
   "cell_type": "code",
   "execution_count": 3,
   "metadata": {},
   "outputs": [
    {
     "name": "stdout",
     "output_type": "stream",
     "text": [
      "<class 'pandas.core.frame.DataFrame'>\n",
      "RangeIndex: 100000 entries, 0 to 99999\n",
      "Data columns (total 4 columns):\n",
      "user_id     100000 non-null int64\n",
      "item_id     100000 non-null int64\n",
      "rating      100000 non-null int64\n",
      "timesamp    100000 non-null int64\n",
      "dtypes: int64(4)\n",
      "memory usage: 3.1 MB\n"
     ]
    }
   ],
   "source": [
    "src_data.info()"
   ]
  },
  {
   "cell_type": "code",
   "execution_count": 4,
   "metadata": {},
   "outputs": [
    {
     "data": {
      "text/html": [
       "<div>\n",
       "<style scoped>\n",
       "    .dataframe tbody tr th:only-of-type {\n",
       "        vertical-align: middle;\n",
       "    }\n",
       "\n",
       "    .dataframe tbody tr th {\n",
       "        vertical-align: top;\n",
       "    }\n",
       "\n",
       "    .dataframe thead th {\n",
       "        text-align: right;\n",
       "    }\n",
       "</style>\n",
       "<table border=\"1\" class=\"dataframe\">\n",
       "  <thead>\n",
       "    <tr style=\"text-align: right;\">\n",
       "      <th></th>\n",
       "      <th>user_id</th>\n",
       "      <th>item_id</th>\n",
       "      <th>rating</th>\n",
       "      <th>timesamp</th>\n",
       "    </tr>\n",
       "  </thead>\n",
       "  <tbody>\n",
       "    <tr>\n",
       "      <th>count</th>\n",
       "      <td>100000.00000</td>\n",
       "      <td>100000.000000</td>\n",
       "      <td>100000.000000</td>\n",
       "      <td>1.000000e+05</td>\n",
       "    </tr>\n",
       "    <tr>\n",
       "      <th>mean</th>\n",
       "      <td>462.48475</td>\n",
       "      <td>425.530130</td>\n",
       "      <td>3.529860</td>\n",
       "      <td>8.835289e+08</td>\n",
       "    </tr>\n",
       "    <tr>\n",
       "      <th>std</th>\n",
       "      <td>266.61442</td>\n",
       "      <td>330.798356</td>\n",
       "      <td>1.125674</td>\n",
       "      <td>5.343856e+06</td>\n",
       "    </tr>\n",
       "    <tr>\n",
       "      <th>min</th>\n",
       "      <td>1.00000</td>\n",
       "      <td>1.000000</td>\n",
       "      <td>1.000000</td>\n",
       "      <td>8.747247e+08</td>\n",
       "    </tr>\n",
       "    <tr>\n",
       "      <th>25%</th>\n",
       "      <td>254.00000</td>\n",
       "      <td>175.000000</td>\n",
       "      <td>3.000000</td>\n",
       "      <td>8.794487e+08</td>\n",
       "    </tr>\n",
       "    <tr>\n",
       "      <th>50%</th>\n",
       "      <td>447.00000</td>\n",
       "      <td>322.000000</td>\n",
       "      <td>4.000000</td>\n",
       "      <td>8.828269e+08</td>\n",
       "    </tr>\n",
       "    <tr>\n",
       "      <th>75%</th>\n",
       "      <td>682.00000</td>\n",
       "      <td>631.000000</td>\n",
       "      <td>4.000000</td>\n",
       "      <td>8.882600e+08</td>\n",
       "    </tr>\n",
       "    <tr>\n",
       "      <th>max</th>\n",
       "      <td>943.00000</td>\n",
       "      <td>1682.000000</td>\n",
       "      <td>5.000000</td>\n",
       "      <td>8.932866e+08</td>\n",
       "    </tr>\n",
       "  </tbody>\n",
       "</table>\n",
       "</div>"
      ],
      "text/plain": [
       "            user_id        item_id         rating      timesamp\n",
       "count  100000.00000  100000.000000  100000.000000  1.000000e+05\n",
       "mean      462.48475     425.530130       3.529860  8.835289e+08\n",
       "std       266.61442     330.798356       1.125674  5.343856e+06\n",
       "min         1.00000       1.000000       1.000000  8.747247e+08\n",
       "25%       254.00000     175.000000       3.000000  8.794487e+08\n",
       "50%       447.00000     322.000000       4.000000  8.828269e+08\n",
       "75%       682.00000     631.000000       4.000000  8.882600e+08\n",
       "max       943.00000    1682.000000       5.000000  8.932866e+08"
      ]
     },
     "execution_count": 4,
     "metadata": {},
     "output_type": "execute_result"
    }
   ],
   "source": [
    "#查看总体的数据情况\n",
    "src_data.describe()"
   ]
  },
  {
   "cell_type": "code",
   "execution_count": 5,
   "metadata": {},
   "outputs": [
    {
     "data": {
      "text/plain": [
       "943"
      ]
     },
     "execution_count": 5,
     "metadata": {},
     "output_type": "execute_result"
    }
   ],
   "source": [
    "#查看用户去重后的个数\n",
    "src_data.user_id.nunique()"
   ]
  },
  {
   "cell_type": "code",
   "execution_count": 6,
   "metadata": {},
   "outputs": [
    {
     "data": {
      "text/plain": [
       "1682"
      ]
     },
     "execution_count": 6,
     "metadata": {},
     "output_type": "execute_result"
    }
   ],
   "source": [
    "#查看物品去重后的个数\n",
    "src_data.item_id.nunique()"
   ]
  },
  {
   "cell_type": "code",
   "execution_count": 7,
   "metadata": {},
   "outputs": [
    {
     "data": {
      "text/plain": [
       "0"
      ]
     },
     "execution_count": 7,
     "metadata": {},
     "output_type": "execute_result"
    }
   ],
   "source": [
    "#检查事都有重复用户物品打分记录\n",
    "src_data.duplicated(subset=[\"user_id\",\"item_id\"]).sum()"
   ]
  },
  {
   "cell_type": "markdown",
   "metadata": {},
   "source": [
    "### 2、查看一下每个物品对应的用户数量"
   ]
  },
  {
   "cell_type": "code",
   "execution_count": 8,
   "metadata": {},
   "outputs": [
    {
     "data": {
      "text/plain": [
       "item_id\n",
       "1       452\n",
       "2       131\n",
       "3        90\n",
       "4       209\n",
       "5        86\n",
       "6        26\n",
       "7       392\n",
       "8       219\n",
       "9       299\n",
       "10       89\n",
       "11      236\n",
       "12      267\n",
       "13      184\n",
       "14      183\n",
       "15      293\n",
       "16       39\n",
       "17       92\n",
       "18       10\n",
       "19       69\n",
       "20       72\n",
       "21       84\n",
       "22      297\n",
       "23      182\n",
       "24      174\n",
       "25      293\n",
       "26       73\n",
       "27       57\n",
       "28      276\n",
       "29      114\n",
       "30       37\n",
       "       ... \n",
       "1653      1\n",
       "1654      1\n",
       "1655      1\n",
       "1656      2\n",
       "1657      1\n",
       "1658      3\n",
       "1659      1\n",
       "1660      1\n",
       "1661      1\n",
       "1662      2\n",
       "1663      1\n",
       "1664      4\n",
       "1665      1\n",
       "1666      1\n",
       "1667      1\n",
       "1668      1\n",
       "1669      1\n",
       "1670      1\n",
       "1671      1\n",
       "1672      2\n",
       "1673      1\n",
       "1674      1\n",
       "1675      1\n",
       "1676      1\n",
       "1677      1\n",
       "1678      1\n",
       "1679      1\n",
       "1680      1\n",
       "1681      1\n",
       "1682      1\n",
       "Name: user_id, Length: 1682, dtype: int64"
      ]
     },
     "execution_count": 8,
     "metadata": {},
     "output_type": "execute_result"
    }
   ],
   "source": [
    "#每一个电影对应的客户数\n",
    "item_id_usercnt = src_data.groupby(\"item_id\").count()[\"user_id\"]\n",
    "item_id_usercnt"
   ]
  },
  {
   "cell_type": "code",
   "execution_count": 9,
   "metadata": {},
   "outputs": [
    {
     "data": {
      "text/plain": [
       "Text(0.5,1,'每个物品对应的用户数量')"
      ]
     },
     "execution_count": 9,
     "metadata": {},
     "output_type": "execute_result"
    },
    {
     "data": {
      "text/plain": [
       "Text(0.5,0,'评价的客户数/人')"
      ]
     },
     "execution_count": 9,
     "metadata": {},
     "output_type": "execute_result"
    },
    {
     "data": {
      "text/plain": [
       "Text(0,0.5,'被评论的电影数')"
      ]
     },
     "execution_count": 9,
     "metadata": {},
     "output_type": "execute_result"
    },
    {
     "data": {
      "text/plain": [
       "(array([1.146e+03, 2.490e+02, 1.390e+02, 6.700e+01, 3.800e+01, 2.400e+01,\n",
       "        7.000e+00, 5.000e+00, 6.000e+00, 1.000e+00]),\n",
       " array([  1. ,  59.2, 117.4, 175.6, 233.8, 292. , 350.2, 408.4, 466.6,\n",
       "        524.8, 583. ]),\n",
       " <a list of 10 Patch objects>)"
      ]
     },
     "execution_count": 9,
     "metadata": {},
     "output_type": "execute_result"
    },
    {
     "data": {
      "image/png": "[encoded data removed]",
      "text/plain": [
       "<matplotlib.figure.Figure at 0x921fc88>"
      ]
     },
     "metadata": {},
     "output_type": "display_data"
    }
   ],
   "source": [
    "#画图\n",
    "import matplotlib.pyplot as plt\n",
    "plt.rcParams[\"font.sans-serif\"]=['SimHei']  # 用于正常显示中文标签\n",
    "plt.rcParams['axes.unicode_minus']=False  # 用来正常显示负号\n",
    "\n",
    "\n",
    "plt.title('每个物品对应的用户数量')\n",
    "plt.xlabel(\"评价的客户数/人\")\n",
    "plt.ylabel(\"被评论的电影数\")\n",
    "plt.hist(item_id_usercnt.values)"
   ]
  },
  {
   "cell_type": "code",
   "execution_count": 10,
   "metadata": {},
   "outputs": [
    {
     "data": {
      "text/plain": [
       "array([0. , 0.1, 0.2, 0.3, 0.4, 0.5, 0.6, 0.7, 0.8, 0.9, 1. ])"
      ]
     },
     "execution_count": 10,
     "metadata": {},
     "output_type": "execute_result"
    }
   ],
   "source": [
    "#每个物品对应的用户数，（10分位，20分位，30分位。。。。100分位）\n",
    "np.arange(0,1.1,step=0.1)"
   ]
  },
  {
   "cell_type": "code",
   "execution_count": 11,
   "metadata": {},
   "outputs": [
    {
     "data": {
      "text/plain": [
       "0.0      1.0\n",
       "0.1      2.0\n",
       "0.2      5.0\n",
       "0.3      9.0\n",
       "0.4     16.0\n",
       "0.5     27.0\n",
       "0.6     43.0\n",
       "0.7     65.0\n",
       "0.8    100.0\n",
       "0.9    169.0\n",
       "1.0    583.0\n",
       "Name: user_id, dtype: float64"
      ]
     },
     "execution_count": 11,
     "metadata": {},
     "output_type": "execute_result"
    }
   ],
   "source": [
    "item_id_usercnt.quantile(q=np.arange(0,1.1,step=0.1))"
   ]
  },
  {
   "cell_type": "markdown",
   "metadata": {},
   "source": [
    "##### 30%电影评分的人数少于10个。对于这部分数据，对于其他评价的相似度不会精准"
   ]
  },
  {
   "cell_type": "markdown",
   "metadata": {},
   "source": [
    "### 3、观察一下每个用户评价对应的电影的数量"
   ]
  },
  {
   "cell_type": "code",
   "execution_count": 12,
   "metadata": {},
   "outputs": [
    {
     "data": {
      "text/plain": [
       "array([272,  62,  54,  24, 175, 211, 403,  59,  22, 184, 181,  51, 636,\n",
       "        98, 104, 140,  28, 277,  20,  48, 179, 128, 151,  68,  78, 107,\n",
       "        25,  79,  34,  43,  36,  41,  24,  20,  25,  20,  57, 121,  22,\n",
       "        35,  52, 183, 221, 151,  48,  27,  25,  66, 215,  24,  23,  56,\n",
       "        28,  65,  21, 187, 106, 154, 382, 208,  21, 232,  93, 200,  80,\n",
       "        38,  30,  34,  65, 131,  38, 137,  66,  39,  79,  82,  72,  21,\n",
       "        55,  29,  58, 168, 155,  68, 288,  23, 211,  21,  76, 300,  98,\n",
       "       388,  20, 400, 278,  56,  63,  27, 136,  59,  67, 216,  29, 111,\n",
       "        23,  64,  22,  33, 234, 133,  24,  46,  51,  48,  92, 143,  86,\n",
       "        71, 181,  26,  74,  61,  54,  24, 182,  45,  23, 184,  30, 353,\n",
       "        30,  22,  26,  25,  55,  35,  47,  51,  24,  21, 107,  33,  20,\n",
       "       206, 316,  29,  20,  65,  36,  32, 307, 106,  23,  51,  22,  37,\n",
       "        51, 173, 107, 120,  58,  42,  23,  63,  30,  20,  69,  69,  37,\n",
       "        22,  28,  27,  43, 177,  38,  63, 115, 273,  42,  63, 435,  28,\n",
       "        53, 251,  48,  92,  56, 112, 187,  59,  27,  35, 121, 305,  96,\n",
       "        39, 118, 181,  40, 216, 386,  20,  43,  42,  22,  64, 230,  33,\n",
       "        33, 132,  37,  25, 126, 128,  93, 131,  76,  53,  28,  22, 146,\n",
       "       387, 105, 141,  27,  50,  58,  21,  30, 133,  21,  93, 110, 480,\n",
       "        94, 124,  48,  29, 159,  24,  23,  20,  81, 238,  22, 195,  26,\n",
       "        56, 161, 122,  77,  21,  97, 159,  83, 207,  57,  23,  46,  24,\n",
       "        27, 160, 123, 120,  46,  23, 185, 328, 323, 138, 278,  51,  22,\n",
       "        71,  95, 518,  54,  23, 434, 258,  26,  22,  53,  47,  32, 288,\n",
       "        62,  75,  27, 150, 296, 124, 388, 150, 196, 147, 192, 127, 280,\n",
       "        20, 275,  21, 484,  26, 222,  32, 112, 397,  20,  21, 294, 223,\n",
       "       262, 245,  87,  75,  22, 174,  23, 154, 125,  51,  89,  66, 142,\n",
       "       187, 284, 283,  65, 147,  70, 183,  26, 333,  22, 130,  34,  75,\n",
       "       254,  44,  21, 201, 237, 190, 232, 193, 199,  58,  41,  50,  44,\n",
       "        42,  25, 233,  26,  24,  76,  43,  27, 102, 121,  25, 311,  20,\n",
       "        58,  33,  58,  45,  22,  75,  51,  66, 233, 274,  28,  30,  33,\n",
       "       375, 196, 162, 127,  53,  71,  22, 281,  23, 304,  52, 271,  31,\n",
       "       121, 111, 448, 149,  57,  54, 102, 172, 319,  22, 153,  68,  50,\n",
       "        44, 737, 342, 226,  27, 203,  28,  58,  51,  50,  25,  24, 493,\n",
       "       365,  20,  32,  36,  62,  97,  64,  44, 204, 101,  31,  55, 414,\n",
       "        65,  21,  62,  41,  44, 379, 145, 263,  33,  31,  51,  20, 143,\n",
       "        24,  24, 135,  36, 139,  38,  75, 540,  98, 206, 156, 236, 189,\n",
       "       217, 277, 183, 118,  68,  23,  33, 133,  53,  80, 101,  44, 143,\n",
       "        43,  57,  31, 263,  35, 327,  20,  83,  35, 113, 202,  60,  56,\n",
       "        26,  59, 139,  26, 189, 231, 154, 109,  57,  33,  55, 135,  47,\n",
       "       213, 129, 279, 149, 102, 225,  73,  37, 160, 251, 112, 242,  58,\n",
       "        87,  33,  30,  24,  21,  22, 194,  40,  21,  37,  73,  49,  23,\n",
       "       150,  30, 100, 306,  54,  68, 137,  53,  43,  45,  30, 274, 260,\n",
       "        80, 218, 163, 490,  81,  56,  63, 133, 135, 197,  31, 162,  59,\n",
       "        23, 155,  25,  40, 334,  84, 100, 114,  52,  44,  53,  20,  76,\n",
       "       101, 357,  72,  30,  34,  35, 149, 155,  81,  70,  22,  20,  20,\n",
       "        51,  46,  26,  36, 188,  24,  74,  47,  28,  62,  27,  24,  80,\n",
       "       166,  98, 225,  43,  48,  84, 360, 156,  25,  96,  20,  41,  25,\n",
       "        47,  89, 148,  29,  47,  27,  90, 236,  37, 163,  28,  75,  42,\n",
       "        27,  28,  39, 103,  43, 108, 216,  89, 110, 171, 228,  45, 141,\n",
       "       106,  32, 181,  27, 121, 108,  20, 118,  58, 135,  34,  20, 104,\n",
       "        67, 148, 109,  40, 318, 206,  42, 122,  38,  58, 297,  24, 311,\n",
       "        21,  22, 283, 147, 685,  24,  29,  71, 191, 224, 121,  23, 158,\n",
       "       166, 142, 245,  47,  46, 100,  46, 124,  29,  35,  41,  34,  77,\n",
       "        49,  28,  62,  38,  22, 399,  75,  86,  20,  71,  21,  24,  36,\n",
       "       115,  32,  40, 154, 157,  38,  29, 105, 127, 149,  21,  33,  31,\n",
       "        47,  90, 114,  29, 236, 105, 138,  86, 221, 162,  30,  44, 167,\n",
       "       269,  93,  39,  67,  30, 168,  42,  22,  85,  25,  24, 322,  26,\n",
       "        21,  38,  83,  20, 107,  64,  53,  24,  33, 148,  35,  20, 104,\n",
       "        26,  35,  27,  60,  67, 293, 108, 305,  33, 168,  73,  57,  34,\n",
       "        38, 109, 166, 357,  32,  41,  66,  21, 129, 109,  23, 175,  37,\n",
       "        64,  29,  64,  70,  33, 161, 224,  28, 105,  36,  65,  37,  55,\n",
       "        42, 232,  30,  39,  27, 117,  57, 249,  33, 231,  25,  47,  55,\n",
       "        39, 159, 358,  26, 239,  24,  28,  26,  75,  33, 332, 273, 140,\n",
       "       204,  23,  20,  26,  21,  20,  29,  35, 183,  25,  36,  21,  28,\n",
       "        21,  62,  25, 185,  20, 145, 115,  28, 104,  64, 106,  73,  25,\n",
       "       267,  54, 102,  50,  46,  93,  57, 197,  31,  27, 204,  81,  31,\n",
       "       405, 146, 150,  23,  51, 209,  49,  41, 217,  23,  26,  22,  21,\n",
       "        39,  71,  43, 165, 107, 294,  66,  20,  95, 208,  47, 269, 115,\n",
       "        71,  20,  34,  89,  21,  81, 134,  29, 368, 259, 137, 268,  43,\n",
       "       102, 240, 171,  20, 326, 119,  47, 226,  59, 245,  20, 362, 185,\n",
       "        30, 135,  45, 124,  49, 136,  47,  40,  41, 147,  74,  26,  60,\n",
       "        98,  53, 132,  23,  26, 317,  35, 103, 217,  26, 110, 127,  74,\n",
       "        82,  32,  20, 120,  32,  49,  63,  61, 241, 184, 174,  39, 142,\n",
       "        40, 108,  49, 107,  22,  79, 168], dtype=int64)"
      ]
     },
     "execution_count": 12,
     "metadata": {},
     "output_type": "execute_result"
    }
   ],
   "source": [
    "#每个用户评价电影的个数\n",
    "user_id_usercnt = src_data.groupby('user_id').count()[\"item_id\"]\n",
    "user_id_usercnt.values"
   ]
  },
  {
   "cell_type": "code",
   "execution_count": 13,
   "metadata": {},
   "outputs": [
    {
     "data": {
      "text/plain": [
       "(array([560., 183.,  96.,  55.,  25.,  15.,   5.,   1.,   1.,   2.]),\n",
       " array([ 20. ,  91.7, 163.4, 235.1, 306.8, 378.5, 450.2, 521.9, 593.6,\n",
       "        665.3, 737. ]),\n",
       " <a list of 10 Patch objects>)"
      ]
     },
     "execution_count": 13,
     "metadata": {},
     "output_type": "execute_result"
    },
    {
     "data": {
      "image/png": "[encoded data removed]",
      "text/plain": [
       "<matplotlib.figure.Figure at 0x91e02e8>"
      ]
     },
     "metadata": {},
     "output_type": "display_data"
    }
   ],
   "source": [
    "import matplotlib.pyplot as plt\n",
    "#画图\n",
    "plt.hist(user_id_usercnt.values)"
   ]
  },
  {
   "cell_type": "code",
   "execution_count": 14,
   "metadata": {},
   "outputs": [
    {
     "data": {
      "text/plain": [
       "0.0     20.0\n",
       "0.1     23.0\n",
       "0.2     29.0\n",
       "0.3     38.0\n",
       "0.4     50.0\n",
       "0.5     65.0\n",
       "0.6     93.0\n",
       "0.7    127.4\n",
       "0.8    171.6\n",
       "0.9    244.4\n",
       "1.0    737.0\n",
       "Name: item_id, dtype: float64"
      ]
     },
     "execution_count": 14,
     "metadata": {},
     "output_type": "execute_result"
    }
   ],
   "source": [
    "user_id_usercnt.quantile(q=np.arange(0,1.1,step=0.1))"
   ]
  },
  {
   "cell_type": "markdown",
   "metadata": {},
   "source": [
    "##### 效果比较好，采用用户 - 电影评分数的方法"
   ]
  },
  {
   "cell_type": "markdown",
   "metadata": {},
   "source": [
    "### 观察用户-电影评分数矩阵"
   ]
  },
  {
   "cell_type": "code",
   "execution_count": 15,
   "metadata": {},
   "outputs": [
    {
     "name": "stdout",
     "output_type": "stream",
     "text": [
      "943\n",
      "1682\n"
     ]
    },
    {
     "data": {
      "text/plain": [
       "array([[5., 3., 4., ..., 0., 0., 0.],\n",
       "       [4., 0., 0., ..., 0., 0., 0.],\n",
       "       [0., 0., 0., ..., 0., 0., 0.],\n",
       "       ...,\n",
       "       [5., 0., 0., ..., 0., 0., 0.],\n",
       "       [0., 0., 0., ..., 0., 0., 0.],\n",
       "       [0., 5., 0., ..., 0., 0., 0.]])"
      ]
     },
     "execution_count": 15,
     "metadata": {},
     "output_type": "execute_result"
    }
   ],
   "source": [
    "n_users = src_data.user_id.nunique()\n",
    "n_items = src_data.item_id.nunique()\n",
    "print(n_users)\n",
    "print(n_items)\n",
    "\n",
    "#构建用户-电影评分矩阵\n",
    "\n",
    "src_data_matrix = np.zeros((n_users,n_items)) \n",
    "# print(src_data_matrix)    产生一个类似的全是0元素的矩阵\n",
    "\n",
    "#src_data.itertuples()###将DataFrame转为元组##############\n",
    "for line in src_data.itertuples():\n",
    "#     print(line)\n",
    "    src_data_matrix[line[1]-1,line[2]-1] = line[3]   #将电影和评分数给line【3】\n",
    "#     print(line[3])\n",
    "src_data_matrix"
   ]
  },
  {
   "cell_type": "code",
   "execution_count": 16,
   "metadata": {},
   "outputs": [
    {
     "data": {
      "text/plain": [
       "<bound method DataFrame.itertuples of        user_id  item_id  rating   timesamp\n",
       "0          196      242       3  881250949\n",
       "1          186      302       3  891717742\n",
       "2           22      377       1  878887116\n",
       "3          244       51       2  880606923\n",
       "4          166      346       1  886397596\n",
       "5          298      474       4  884182806\n",
       "6          115      265       2  881171488\n",
       "7          253      465       5  891628467\n",
       "8          305      451       3  886324817\n",
       "9            6       86       3  883603013\n",
       "10          62      257       2  879372434\n",
       "11         286     1014       5  879781125\n",
       "12         200      222       5  876042340\n",
       "13         210       40       3  891035994\n",
       "14         224       29       3  888104457\n",
       "15         303      785       3  879485318\n",
       "16         122      387       5  879270459\n",
       "17         194      274       2  879539794\n",
       "18         291     1042       4  874834944\n",
       "19         234     1184       2  892079237\n",
       "20         119      392       4  886176814\n",
       "21         167      486       4  892738452\n",
       "22         299      144       4  877881320\n",
       "23         291      118       2  874833878\n",
       "24         308        1       4  887736532\n",
       "25          95      546       2  879196566\n",
       "26          38       95       5  892430094\n",
       "27         102      768       2  883748450\n",
       "28          63      277       4  875747401\n",
       "29         160      234       5  876861185\n",
       "...        ...      ...     ...        ...\n",
       "99970      449      120       1  879959573\n",
       "99971      661      762       2  876037121\n",
       "99972      721      874       3  877137447\n",
       "99973      821      151       4  874792889\n",
       "99974      764      596       3  876243046\n",
       "99975      537      443       3  886031752\n",
       "99976      618      628       2  891308019\n",
       "99977      487      291       3  883445079\n",
       "99978      113      975       5  875936424\n",
       "99979      943      391       2  888640291\n",
       "99980      864      685       4  888891900\n",
       "99981      750      323       3  879445877\n",
       "99982      279       64       1  875308510\n",
       "99983      646      750       3  888528902\n",
       "99984      654      370       2  887863914\n",
       "99985      617      582       4  883789294\n",
       "99986      913      690       3  880824288\n",
       "99987      660      229       2  891406212\n",
       "99988      421      498       4  892241344\n",
       "99989      495     1091       4  888637503\n",
       "99990      806      421       4  882388897\n",
       "99991      676      538       4  892685437\n",
       "99992      721      262       3  877137285\n",
       "99993      913      209       2  881367150\n",
       "99994      378       78       3  880056976\n",
       "99995      880      476       3  880175444\n",
       "99996      716      204       5  879795543\n",
       "99997      276     1090       1  874795795\n",
       "99998       13      225       2  882399156\n",
       "99999       12      203       3  879959583\n",
       "\n",
       "[100000 rows x 4 columns]>"
      ]
     },
     "execution_count": 16,
     "metadata": {},
     "output_type": "execute_result"
    }
   ],
   "source": [
    "src_data.itertuples"
   ]
  },
  {
   "cell_type": "code",
   "execution_count": 17,
   "metadata": {},
   "outputs": [],
   "source": [
    "#矩阵的稀疏性\n",
    "sparsity = round(len(src_data_matrix.nonzero()[1])/float(n_users*n_items),3)"
   ]
  },
  {
   "cell_type": "code",
   "execution_count": 18,
   "metadata": {},
   "outputs": [
    {
     "data": {
      "text/plain": [
       "0.063"
      ]
     },
     "execution_count": 18,
     "metadata": {},
     "output_type": "execute_result"
    }
   ],
   "source": [
    "sparsity #非常稀疏"
   ]
  },
  {
   "cell_type": "markdown",
   "metadata": {},
   "source": [
    "# 一、基于item的协同过滤推荐"
   ]
  },
  {
   "cell_type": "code",
   "execution_count": 19,
   "metadata": {},
   "outputs": [
    {
     "data": {
      "text/plain": [
       "(1682, 1682)"
      ]
     },
     "execution_count": 19,
     "metadata": {},
     "output_type": "execute_result"
    }
   ],
   "source": [
    "#使用sklearn.metrics.pairwise中的cosine\n",
    "from sklearn.metrics.pairwise import pairwise_distances\n",
    "item_similarity_m = pairwise_distances(src_data_matrix.T,metric=\"cosine\")\n",
    "item_similarity_m.shape"
   ]
  },
  {
   "cell_type": "markdown",
   "metadata": {},
   "source": [
    "### 数据探索\n",
    "##### 1 、电影相似矩阵"
   ]
  },
  {
   "cell_type": "code",
   "execution_count": 20,
   "metadata": {},
   "outputs": [
    {
     "data": {
      "text/plain": [
       "0.999"
      ]
     },
     "execution_count": 20,
     "metadata": {},
     "output_type": "execute_result"
    }
   ],
   "source": [
    "#非0值得比例\n",
    "round(np.sum(item_similarity_m>0)\n",
    "      /float(item_similarity_m.shape[0]\n",
    "             *\n",
    "             item_similarity_m.shape[1]),3)"
   ]
  },
  {
   "cell_type": "code",
   "execution_count": 21,
   "metadata": {},
   "outputs": [
    {
     "data": {
      "text/plain": [
       "array([[0.  , 0.6 , 0.67, 0.55, 0.71],\n",
       "       [0.6 , 0.  , 0.73, 0.5 , 0.68],\n",
       "       [0.67, 0.73, 0.  , 0.68, 0.79],\n",
       "       [0.55, 0.5 , 0.68, 0.  , 0.67],\n",
       "       [0.71, 0.68, 0.79, 0.67, 0.  ]])"
      ]
     },
     "execution_count": 21,
     "metadata": {},
     "output_type": "execute_result"
    }
   ],
   "source": [
    "#相似矩阵为对称矩阵\n",
    "item_similarity_m[0:5,0:5].round(2)"
   ]
  },
  {
   "cell_type": "code",
   "execution_count": 22,
   "metadata": {},
   "outputs": [
    {
     "data": {
      "text/plain": [
       "array([0.   , 0.776, 0.847, 0.889, 0.92 , 0.945, 0.97 , 1.   , 1.   ,\n",
       "       1.   , 1.   ])"
      ]
     },
     "execution_count": 22,
     "metadata": {},
     "output_type": "execute_result"
    }
   ],
   "source": [
    "#因为是对称的，分析上三角，得到分位数\n",
    "item_similarity_m_triu = np.triu(item_similarity_m,k=1)\n",
    "item_sim_nonzero = np.round(item_similarity_m_triu[item_similarity_m_triu.nonzero()],3)\n",
    "np.percentile(item_sim_nonzero,np.arange(0,101,10))\n",
    "\n",
    "#相似度得分比较大，相似度没有区分性"
   ]
  },
  {
   "cell_type": "code",
   "execution_count": 23,
   "metadata": {},
   "outputs": [
    {
     "data": {
      "text/plain": [
       "array([[0., 2., 3.],\n",
       "       [0., 0., 6.],\n",
       "       [0., 0., 0.]])"
      ]
     },
     "execution_count": 23,
     "metadata": {},
     "output_type": "execute_result"
    }
   ],
   "source": [
    "#知识点：上三角np.triu\n",
    "arr = np.linspace(1,9,9).reshape(3,3)\n",
    "np.triu(arr,k=1)"
   ]
  },
  {
   "cell_type": "markdown",
   "metadata": {},
   "source": [
    "## 预测"
   ]
  },
  {
   "cell_type": "markdown",
   "metadata": {},
   "source": [
    "\n",
    "评价指标选用均方根误差 (RMSE)\n",
    "\n",
    "<script type=\"text/javascript\" src=\"http://cdn.mathjax.org/mathjax/latest/MathJax.js?config=default\"></script>\n",
    "\\\\(RMSE={\\sqrt{\\frac{1}{n}\\sum{x-\\hat{x}}}}\\\\)\n",
    "\n",
    "由于你只是想要考虑测试数据集中的预测评分，因此，使用item_prediction[user_item_matrix.nonzero()]筛选出预测矩阵中的所有其他元素。"
   ]
  },
  {
   "cell_type": "code",
   "execution_count": 24,
   "metadata": {},
   "outputs": [
    {
     "data": {
      "text/plain": [
       "array([[0.44627765, 0.475473  , 0.50593755, ..., 0.58815455, 0.5731069 ,\n",
       "        0.56669645],\n",
       "       [0.10854432, 0.13295661, 0.12558851, ..., 0.13445801, 0.13657587,\n",
       "        0.13711081],\n",
       "       [0.08568497, 0.09169006, 0.08764343, ..., 0.08465892, 0.08976784,\n",
       "        0.09084451],\n",
       "       ...,\n",
       "       [0.03230047, 0.0450241 , 0.04292449, ..., 0.05302764, 0.0519099 ,\n",
       "        0.05228033],\n",
       "       [0.15777917, 0.17409459, 0.18900003, ..., 0.19979296, 0.19739388,\n",
       "        0.20003117],\n",
       "       [0.24767207, 0.24489212, 0.28263031, ..., 0.34410424, 0.33051406,\n",
       "        0.33102478]])"
      ]
     },
     "execution_count": 24,
     "metadata": {},
     "output_type": "execute_result"
    }
   ],
   "source": [
    "# 得到预测矩阵P\n",
    "user_item_prediction = src_data_matrix.dot(item_similarity_m)/ np.array([np.abs(item_similarity_m).sum(axis=1)])\n",
    "\n",
    "user_item_prediction"
   ]
  },
  {
   "cell_type": "code",
   "execution_count": 25,
   "metadata": {},
   "outputs": [
    {
     "data": {
      "text/plain": [
       "3.392143861739501"
      ]
     },
     "execution_count": 25,
     "metadata": {},
     "output_type": "execute_result"
    }
   ],
   "source": [
    "# 只取预测数据集中有评分的数据集，进行评估\n",
    "from sklearn.metrics import mean_squared_error\n",
    "from math import sqrt\n",
    "prediction_flatten = user_item_prediction[src_data_matrix.nonzero()] \n",
    "user_item_matrix_flatten = src_data_matrix[src_data_matrix.nonzero()]\n",
    "sqrt(mean_squared_error(prediction_flatten, user_item_matrix_flatten))"
   ]
  },
  {
   "cell_type": "code",
   "execution_count": 26,
   "metadata": {},
   "outputs": [
    {
     "data": {
      "text/plain": [
       "3.392143861739501"
      ]
     },
     "execution_count": 26,
     "metadata": {},
     "output_type": "execute_result"
    }
   ],
   "source": [
    "# 测试数据集构建\n",
    "test_data_matrix = np.zeros((n_users, n_items))\n",
    "for line in src_data.itertuples():\n",
    "    test_data_matrix[line[1]-1, line[2]-1] = line[3]\n",
    "\n",
    "# 预测矩阵\n",
    "item_prediction = src_data_matrix.dot(item_similarity_m) / np.array([np.abs(item_similarity_m).sum(axis=1)])     \n",
    "\n",
    "# 只取预测数据集中有评分的数据集\n",
    "from sklearn.metrics import mean_squared_error\n",
    "from math import sqrt\n",
    "prediction_flatten = item_prediction[test_data_matrix.nonzero()] \n",
    "test_data_matrix_flatten = test_data_matrix[test_data_matrix.nonzero()]\n",
    "sqrt(mean_squared_error(prediction_flatten, test_data_matrix_flatten))"
   ]
  },
  {
   "cell_type": "markdown",
   "metadata": {},
   "source": [
    "# 单模型结果提升"
   ]
  },
  {
   "cell_type": "markdown",
   "metadata": {},
   "source": [
    "### 1、改变相似度算法"
   ]
  },
  {
   "cell_type": "code",
   "execution_count": 27,
   "metadata": {},
   "outputs": [
    {
     "data": {
      "text/plain": [
       "array([[ 0.        , 77.72387021, 80.07496488, ..., 84.79976415,\n",
       "        84.68766144, 84.68766144],\n",
       "       [77.72387021,  0.        , 42.17819342, ..., 38.36665219,\n",
       "        38.19685851, 38.19685851],\n",
       "       [80.07496488, 42.17819342,  0.        , ..., 31.0322413 ,\n",
       "        31.11269837, 30.82207001],\n",
       "       ...,\n",
       "       [84.79976415, 38.36665219, 31.0322413 , ...,  0.        ,\n",
       "         3.60555128,  3.60555128],\n",
       "       [84.68766144, 38.19685851, 31.11269837, ...,  3.60555128,\n",
       "         0.        ,  4.24264069],\n",
       "       [84.68766144, 38.19685851, 30.82207001, ...,  3.60555128,\n",
       "         4.24264069,  0.        ]])"
      ]
     },
     "execution_count": 27,
     "metadata": {},
     "output_type": "execute_result"
    }
   ],
   "source": [
    "# 相似度算法指定为欧氏距离\n",
    "item_similarity_m = pairwise_distances(src_data_matrix.T, metric='euclidean')\n",
    "item_similarity_m"
   ]
  },
  {
   "cell_type": "code",
   "execution_count": 28,
   "metadata": {},
   "outputs": [],
   "source": [
    "from sklearn.model_selection import train_test_split"
   ]
  },
  {
   "cell_type": "code",
   "execution_count": 29,
   "metadata": {},
   "outputs": [],
   "source": [
    "train_data, test_data = train_test_split(src_data, test_size=0.2)"
   ]
  },
  {
   "cell_type": "code",
   "execution_count": null,
   "metadata": {},
   "outputs": [],
   "source": []
  },
  {
   "cell_type": "code",
   "execution_count": null,
   "metadata": {},
   "outputs": [],
   "source": []
  },
  {
   "cell_type": "code",
   "execution_count": null,
   "metadata": {},
   "outputs": [],
   "source": []
  },
  {
   "cell_type": "code",
   "execution_count": null,
   "metadata": {},
   "outputs": [],
   "source": []
  },
  {
   "cell_type": "code",
   "execution_count": null,
   "metadata": {},
   "outputs": [],
   "source": []
  },
  {
   "cell_type": "code",
   "execution_count": null,
   "metadata": {},
   "outputs": [],
   "source": []
  },
  {
   "cell_type": "code",
   "execution_count": null,
   "metadata": {},
   "outputs": [],
   "source": []
  },
  {
   "cell_type": "markdown",
   "metadata": {},
   "source": [
    "# 二、基于users的协同过滤推荐"
   ]
  },
  {
   "cell_type": "code",
   "execution_count": 30,
   "metadata": {},
   "outputs": [
    {
     "data": {
      "text/html": [
       "<div>\n",
       "<style scoped>\n",
       "    .dataframe tbody tr th:only-of-type {\n",
       "        vertical-align: middle;\n",
       "    }\n",
       "\n",
       "    .dataframe tbody tr th {\n",
       "        vertical-align: top;\n",
       "    }\n",
       "\n",
       "    .dataframe thead th {\n",
       "        text-align: right;\n",
       "    }\n",
       "</style>\n",
       "<table border=\"1\" class=\"dataframe\">\n",
       "  <thead>\n",
       "    <tr style=\"text-align: right;\">\n",
       "      <th></th>\n",
       "      <th>user_id</th>\n",
       "      <th>item_id</th>\n",
       "      <th>rating</th>\n",
       "      <th>timestamp</th>\n",
       "    </tr>\n",
       "  </thead>\n",
       "  <tbody>\n",
       "    <tr>\n",
       "      <th>0</th>\n",
       "      <td>196</td>\n",
       "      <td>242</td>\n",
       "      <td>3</td>\n",
       "      <td>881250949</td>\n",
       "    </tr>\n",
       "    <tr>\n",
       "      <th>1</th>\n",
       "      <td>186</td>\n",
       "      <td>302</td>\n",
       "      <td>3</td>\n",
       "      <td>891717742</td>\n",
       "    </tr>\n",
       "    <tr>\n",
       "      <th>2</th>\n",
       "      <td>22</td>\n",
       "      <td>377</td>\n",
       "      <td>1</td>\n",
       "      <td>878887116</td>\n",
       "    </tr>\n",
       "    <tr>\n",
       "      <th>3</th>\n",
       "      <td>244</td>\n",
       "      <td>51</td>\n",
       "      <td>2</td>\n",
       "      <td>880606923</td>\n",
       "    </tr>\n",
       "    <tr>\n",
       "      <th>4</th>\n",
       "      <td>166</td>\n",
       "      <td>346</td>\n",
       "      <td>1</td>\n",
       "      <td>886397596</td>\n",
       "    </tr>\n",
       "  </tbody>\n",
       "</table>\n",
       "</div>"
      ],
      "text/plain": [
       "   user_id  item_id  rating  timestamp\n",
       "0      196      242       3  881250949\n",
       "1      186      302       3  891717742\n",
       "2       22      377       1  878887116\n",
       "3      244       51       2  880606923\n",
       "4      166      346       1  886397596"
      ]
     },
     "execution_count": 30,
     "metadata": {},
     "output_type": "execute_result"
    }
   ],
   "source": [
    "from IPython.core.interactiveshell import InteractiveShell\n",
    "InteractiveShell.ast_node_interactivity = \"all\"\n",
    "import numpy as np\n",
    "import pandas as pd\n",
    "header = ['user_id', 'item_id', 'rating', 'timestamp']\n",
    "src_data = pd.read_csv('ml-100k/u.data', sep='\\t', names=header)\n",
    "src_data.head()"
   ]
  },
  {
   "cell_type": "code",
   "execution_count": 31,
   "metadata": {},
   "outputs": [],
   "source": [
    "# 用户、物品数统计\n",
    "n_users = src_data.user_id.nunique()\n",
    "n_items = src_data.item_id.nunique() \n",
    "# 训练集、测试集分离\n",
    "\n",
    "from sklearn.model_selection import train_test_split\n",
    "\n",
    "train_data, test_data = train_test_split(src_data, test_size=0.3)\n",
    "\n",
    "\n",
    "\n",
    "# 训练集 用户-物品矩阵\n",
    "train_data_matrix = np.zeros((n_users, n_items))\n",
    "for line in train_data.itertuples():\n",
    "    train_data_matrix[line[1]-1, line[2]-1] = line[3] \n"
   ]
  },
  {
   "cell_type": "markdown",
   "metadata": {},
   "source": [
    "### 1、用户相似度矩阵"
   ]
  },
  {
   "cell_type": "code",
   "execution_count": null,
   "metadata": {},
   "outputs": [],
   "source": []
  },
  {
   "cell_type": "code",
   "execution_count": 32,
   "metadata": {},
   "outputs": [],
   "source": [
    "#采用余弦距离"
   ]
  },
  {
   "cell_type": "code",
   "execution_count": 33,
   "metadata": {},
   "outputs": [],
   "source": [
    "from sklearn.metrics.pairwise import pairwise_distances\n",
    "user_similarity_m = pairwise_distances(train_data_matrix,metric=\"cosine\")"
   ]
  },
  {
   "cell_type": "markdown",
   "metadata": {},
   "source": [
    "### 2、数据探索"
   ]
  },
  {
   "cell_type": "markdown",
   "metadata": {},
   "source": [
    "#### 2.1、用户相似矩阵"
   ]
  },
  {
   "cell_type": "code",
   "execution_count": 34,
   "metadata": {},
   "outputs": [
    {
     "data": {
      "text/plain": [
       "(943, 943)"
      ]
     },
     "execution_count": 34,
     "metadata": {},
     "output_type": "execute_result"
    }
   ],
   "source": [
    "#物品相似矩阵，行列\n",
    "user_similarity_m.shape"
   ]
  },
  {
   "cell_type": "code",
   "execution_count": 35,
   "metadata": {},
   "outputs": [
    {
     "data": {
      "text/plain": [
       "0.999"
      ]
     },
     "execution_count": 35,
     "metadata": {},
     "output_type": "execute_result"
    }
   ],
   "source": [
    "#非0 比例\n",
    "#round四舍五入\n",
    "\n",
    "round(np.sum(user_similarity_m>0)/float(user_similarity_m.shape[0]\n",
    "                                        *user_similarity_m.shape[1]),3)"
   ]
  },
  {
   "cell_type": "code",
   "execution_count": 36,
   "metadata": {},
   "outputs": [
    {
     "data": {
      "text/plain": [
       "array([[0.  , 0.91, 0.97, 0.95, 0.78],\n",
       "       [0.91, 0.  , 0.93, 0.86, 0.97],\n",
       "       [0.97, 0.93, 0.  , 0.74, 1.  ],\n",
       "       [0.95, 0.86, 0.74, 0.  , 0.99],\n",
       "       [0.78, 0.97, 1.  , 0.99, 0.  ]])"
      ]
     },
     "execution_count": 36,
     "metadata": {},
     "output_type": "execute_result"
    }
   ],
   "source": [
    "# 相似矩阵为对称矩阵\n",
    "user_similarity_m[0:5, 0:5].round(2)"
   ]
  },
  {
   "cell_type": "code",
   "execution_count": 37,
   "metadata": {},
   "outputs": [
    {
     "data": {
      "text/plain": [
       "array([0.375, 0.752, 0.805, 0.841, 0.87 , 0.895, 0.918, 0.94 , 0.961,\n",
       "       0.989, 1.   ])"
      ]
     },
     "execution_count": 37,
     "metadata": {},
     "output_type": "execute_result"
    }
   ],
   "source": [
    "#现在我们分析上三角，得到等分位数\n",
    "user_similarity_m_triu = np.triu(user_similarity_m,k=1)\n",
    "item_sim_nonzero2 = np.round(user_similarity_m_triu[\n",
    "            user_similarity_m_triu.nonzero()\n",
    "            ],3)\n",
    "np.percentile(item_sim_nonzero2,np.arange(0,101,10))"
   ]
  },
  {
   "cell_type": "markdown",
   "metadata": {},
   "source": [
    "##### 可以看出相似度得分都偏大，相似度没有区分性"
   ]
  },
  {
   "cell_type": "code",
   "execution_count": 38,
   "metadata": {},
   "outputs": [],
   "source": [
    "# 得到预测矩阵P\n",
    "mean_user_rating = train_data_matrix.mean(axis=1)\n",
    "ratings_diff = (train_data_matrix - mean_user_rating[:, np.newaxis])   #升维度\n",
    "user_prediction = mean_user_rating[:, np.newaxis] + \\\n",
    "    user_similarity_m.dot(ratings_diff) / \\\n",
    "    np.array([np.abs(user_similarity_m).sum(axis=1)]).T"
   ]
  },
  {
   "cell_type": "markdown",
   "metadata": {},
   "source": [
    "### 3、训练集预测"
   ]
  },
  {
   "cell_type": "code",
   "execution_count": 39,
   "metadata": {},
   "outputs": [
    {
     "data": {
      "text/plain": [
       "3.1659604800553183"
      ]
     },
     "execution_count": 39,
     "metadata": {},
     "output_type": "execute_result"
    }
   ],
   "source": [
    "from sklearn.metrics import mean_squared_error\n",
    "from math import sqrt\n",
    "prediction_flatten = user_prediction[train_data_matrix.nonzero()] \n",
    "train_data_matrix_flatten = train_data_matrix[train_data_matrix.nonzero()]\n",
    "sqrt(mean_squared_error(prediction_flatten, train_data_matrix_flatten))"
   ]
  },
  {
   "cell_type": "markdown",
   "metadata": {},
   "source": [
    "### 4、测试集预测"
   ]
  },
  {
   "cell_type": "code",
   "execution_count": 40,
   "metadata": {},
   "outputs": [],
   "source": [
    "# 测试数据集构建\n",
    "test_data_matrix = np.zeros((n_users, n_items))\n",
    "for line in test_data.itertuples():\n",
    "    test_data_matrix[line[1]-1, line[2]-1] = line[3]"
   ]
  },
  {
   "cell_type": "code",
   "execution_count": 41,
   "metadata": {},
   "outputs": [
    {
     "data": {
      "text/plain": [
       "3.1588029425053166"
      ]
     },
     "execution_count": 41,
     "metadata": {},
     "output_type": "execute_result"
    }
   ],
   "source": [
    "# 只取预测数据集中有评分的数据集\n",
    "from sklearn.metrics import mean_squared_error\n",
    "from math import sqrt\n",
    "prediction_flatten = user_prediction[test_data_matrix.nonzero()] \n",
    "test_data_matrix_flatten = test_data_matrix[test_data_matrix.nonzero()]\n",
    "sqrt(mean_squared_error(prediction_flatten, test_data_matrix_flatten))"
   ]
  },
  {
   "cell_type": "markdown",
   "metadata": {},
   "source": [
    "### 5、提升"
   ]
  },
  {
   "cell_type": "code",
   "execution_count": 42,
   "metadata": {},
   "outputs": [],
   "source": [
    "#  相似度算法指定为欧氏距离\n",
    "user_similarity_m = pairwise_distances(train_data_matrix, metric='euclidean')"
   ]
  },
  {
   "cell_type": "code",
   "execution_count": 43,
   "metadata": {},
   "outputs": [],
   "source": [
    "train_data, test_data = train_test_split(src_data, test_size=0.2)"
   ]
  },
  {
   "cell_type": "code",
   "execution_count": null,
   "metadata": {},
   "outputs": [],
   "source": []
  },
  {
   "cell_type": "code",
   "execution_count": null,
   "metadata": {},
   "outputs": [],
   "source": []
  },
  {
   "cell_type": "code",
   "execution_count": null,
   "metadata": {},
   "outputs": [],
   "source": []
  },
  {
   "cell_type": "code",
   "execution_count": null,
   "metadata": {},
   "outputs": [],
   "source": []
  },
  {
   "cell_type": "markdown",
   "metadata": {},
   "source": [
    "# 三、基于svd的协同过滤"
   ]
  },
  {
   "cell_type": "markdown",
   "metadata": {},
   "source": [
    "\n",
    "SVD即奇异值分解，是一种矩阵分解(Matrix Factorization)方法，这里我们将这种方法用于基于模型的协同过滤的推荐算法。\n",
    "\n",
    "MF的目标是从已知的评分中学习用户的潜在喜好和产品的潜在属性（学习描述评分特征的特征），随后通过用户和产品的潜在特征的点积预测未知的评分。\n",
    "\n",
    "大体过程为：将矩阵分成成三个矩阵的乘积：\n",
    "A = U*S*V^T\n",
    "\n",
    "\n",
    "\n",
    "\n",
    "\n"
   ]
  },
  {
   "cell_type": "code",
   "execution_count": 44,
   "metadata": {},
   "outputs": [
    {
     "data": {
      "text/html": [
       "<div>\n",
       "<style scoped>\n",
       "    .dataframe tbody tr th:only-of-type {\n",
       "        vertical-align: middle;\n",
       "    }\n",
       "\n",
       "    .dataframe tbody tr th {\n",
       "        vertical-align: top;\n",
       "    }\n",
       "\n",
       "    .dataframe thead th {\n",
       "        text-align: right;\n",
       "    }\n",
       "</style>\n",
       "<table border=\"1\" class=\"dataframe\">\n",
       "  <thead>\n",
       "    <tr style=\"text-align: right;\">\n",
       "      <th></th>\n",
       "      <th>user_id</th>\n",
       "      <th>item_id</th>\n",
       "      <th>rating</th>\n",
       "      <th>timestamp</th>\n",
       "    </tr>\n",
       "  </thead>\n",
       "  <tbody>\n",
       "    <tr>\n",
       "      <th>0</th>\n",
       "      <td>196</td>\n",
       "      <td>242</td>\n",
       "      <td>3</td>\n",
       "      <td>881250949</td>\n",
       "    </tr>\n",
       "    <tr>\n",
       "      <th>1</th>\n",
       "      <td>186</td>\n",
       "      <td>302</td>\n",
       "      <td>3</td>\n",
       "      <td>891717742</td>\n",
       "    </tr>\n",
       "    <tr>\n",
       "      <th>2</th>\n",
       "      <td>22</td>\n",
       "      <td>377</td>\n",
       "      <td>1</td>\n",
       "      <td>878887116</td>\n",
       "    </tr>\n",
       "    <tr>\n",
       "      <th>3</th>\n",
       "      <td>244</td>\n",
       "      <td>51</td>\n",
       "      <td>2</td>\n",
       "      <td>880606923</td>\n",
       "    </tr>\n",
       "    <tr>\n",
       "      <th>4</th>\n",
       "      <td>166</td>\n",
       "      <td>346</td>\n",
       "      <td>1</td>\n",
       "      <td>886397596</td>\n",
       "    </tr>\n",
       "  </tbody>\n",
       "</table>\n",
       "</div>"
      ],
      "text/plain": [
       "   user_id  item_id  rating  timestamp\n",
       "0      196      242       3  881250949\n",
       "1      186      302       3  891717742\n",
       "2       22      377       1  878887116\n",
       "3      244       51       2  880606923\n",
       "4      166      346       1  886397596"
      ]
     },
     "execution_count": 44,
     "metadata": {},
     "output_type": "execute_result"
    }
   ],
   "source": [
    "from IPython.core.interactiveshell import InteractiveShell\n",
    "InteractiveShell.ast_node_interactivity = \"all\"\n",
    "import numpy as np\n",
    "import pandas as pd\n",
    "header = ['user_id', 'item_id', 'rating', 'timestamp']\n",
    "src_data = pd.read_csv('ml-100k/u.data', sep='\\t', names=header)\n",
    "src_data.head()"
   ]
  },
  {
   "cell_type": "code",
   "execution_count": 45,
   "metadata": {},
   "outputs": [],
   "source": [
    "                      # 用户、物品数统计\n",
    "n_users = src_data.user_id.nunique()\n",
    "n_items = src_data.item_id.nunique() \n",
    "# 训练集、测试集分离\n",
    "from sklearn.model_selection import train_test_split\n",
    "train_data, test_data = train_test_split(src_data, test_size=0.3)\n",
    "# 训练集 用户-物品矩阵\n",
    "train_data_matrix = np.zeros((n_users, n_items))\n",
    "for line in train_data.itertuples():\n",
    "    train_data_matrix[line[1]-1, line[2]-1] = line[3] \n",
    "# 测试集 用户-物品矩阵    \n",
    "test_data_matrix = np.zeros((n_users, n_items))\n",
    "for line in test_data.itertuples():\n",
    "    test_data_matrix[line[1]-1, line[2]-1] = line[3]"
   ]
  },
  {
   "cell_type": "markdown",
   "metadata": {},
   "source": [
    "## SVD"
   ]
  },
  {
   "cell_type": "code",
   "execution_count": 47,
   "metadata": {},
   "outputs": [
    {
     "data": {
      "text/plain": [
       "(943, 20)"
      ]
     },
     "execution_count": 47,
     "metadata": {},
     "output_type": "execute_result"
    },
    {
     "data": {
      "text/plain": [
       "(20,)"
      ]
     },
     "execution_count": 47,
     "metadata": {},
     "output_type": "execute_result"
    },
    {
     "data": {
      "text/plain": [
       "(20, 1682)"
      ]
     },
     "execution_count": 47,
     "metadata": {},
     "output_type": "execute_result"
    },
    {
     "data": {
      "text/plain": [
       "(20, 20)"
      ]
     },
     "execution_count": 47,
     "metadata": {},
     "output_type": "execute_result"
    },
    {
     "data": {
      "text/plain": [
       "(943, 1682)"
      ]
     },
     "execution_count": 47,
     "metadata": {},
     "output_type": "execute_result"
    }
   ],
   "source": [
    "import scipy.sparse as sp\n",
    "from scipy.sparse.linalg import svds\n",
    "\n",
    "#get SVD components from train matrix. Choose k.\n",
    "u, s, vt = svds(train_data_matrix, k = 20)\n",
    "s_diag_matrix=np.diag(s)\n",
    "svd_prediction = np.dot(np.dot(u, s_diag_matrix), vt)\n",
    "u.shape\n",
    "s.shape\n",
    "vt.shape\n",
    "s_diag_matrix.shape\n",
    "svd_prediction.shape"
   ]
  },
  {
   "cell_type": "code",
   "execution_count": 48,
   "metadata": {},
   "outputs": [
    {
     "data": {
      "text/plain": [
       "0     -3.28\n",
       "1     -0.07\n",
       "2     -0.02\n",
       "3     -0.00\n",
       "4      0.00\n",
       "5      0.02\n",
       "6      0.04\n",
       "7      0.09\n",
       "8      0.20\n",
       "9      0.52\n",
       "10    10.03\n",
       "dtype: object"
      ]
     },
     "execution_count": 48,
     "metadata": {},
     "output_type": "execute_result"
    },
    {
     "data": {
      "text/plain": [
       "0     0.00\n",
       "1     0.00\n",
       "2     0.00\n",
       "3     0.00\n",
       "4     0.00\n",
       "5     0.00\n",
       "6     0.00\n",
       "7     0.00\n",
       "8     0.00\n",
       "9     0.00\n",
       "10    5.00\n",
       "dtype: object"
      ]
     },
     "execution_count": 48,
     "metadata": {},
     "output_type": "execute_result"
    },
    {
     "data": {
      "text/plain": [
       "0     1.00\n",
       "1     2.00\n",
       "2     3.00\n",
       "3     3.00\n",
       "4     3.00\n",
       "5     4.00\n",
       "6     4.00\n",
       "7     4.00\n",
       "8     5.00\n",
       "9     5.00\n",
       "10    5.00\n",
       "dtype: object"
      ]
     },
     "execution_count": 48,
     "metadata": {},
     "output_type": "execute_result"
    }
   ],
   "source": [
    "# 查看预测矩阵值分布\n",
    "pd.Series(np.percentile(svd_prediction, np.arange(0, 101, 10))).map(\"{:.2f}\".format)\n",
    "# 查看训练数据矩阵值分布\n",
    "pd.Series(np.percentile( train_data_matrix, np.arange(0, 101, 10))).map(\"{:.2f}\".format)\n",
    "# 查看训练数据矩阵非0值分布\n",
    "pd.Series(np.percentile( train_data_matrix[train_data_matrix.nonzero()], np.arange(0, 101, 10))).map(\"{:.2f}\".format)"
   ]
  },
  {
   "cell_type": "code",
   "execution_count": 49,
   "metadata": {},
   "outputs": [],
   "source": [
    "## 预测值限定最小值和最大值\n",
    "# 将预测值中小于0的值，赋值为0\n",
    "svd_prediction[svd_prediction<0] = 0\n",
    "# 将预测值中大于5的值，赋值为5\n",
    "svd_prediction[svd_prediction>5] = 5"
   ]
  },
  {
   "cell_type": "markdown",
   "metadata": {},
   "source": [
    "### 评估"
   ]
  },
  {
   "cell_type": "markdown",
   "metadata": {},
   "source": [
    "### 1、 RMSE评估\n",
    "\n",
    "评价指标选用均方根误差 (RMSE)\n",
    "\n",
    "<script type=\"text/javascript\" src=\"http://cdn.mathjax.org/mathjax/latest/MathJax.js?config=default\"></script>\n",
    "\\\\(RMSE={\\sqrt{\\frac{1}{n}\\sum{x-\\hat{x}}}}\\\\)\n",
    "\n",
    "由于你只是想要考虑测试数据集中的预测评分，因此，使用item_prediction[user_item_matrix.nonzero()]筛选出预测矩阵中的所有其他元素。"
   ]
  },
  {
   "cell_type": "code",
   "execution_count": 51,
   "metadata": {},
   "outputs": [
    {
     "data": {
      "text/plain": [
       "2.44241461042488"
      ]
     },
     "execution_count": 51,
     "metadata": {},
     "output_type": "execute_result"
    }
   ],
   "source": [
    "# 只取预测数据集中有评分的数据集，进行评估\n",
    "from sklearn.metrics import mean_squared_error\n",
    "from math import sqrt\n",
    "prediction_flatten = svd_prediction[train_data_matrix.nonzero()] \n",
    "train_data_matrix_flatten = train_data_matrix[train_data_matrix.nonzero()]\n",
    "sqrt(mean_squared_error(prediction_flatten, train_data_matrix_flatten))"
   ]
  },
  {
   "cell_type": "code",
   "execution_count": 52,
   "metadata": {},
   "outputs": [
    {
     "data": {
      "text/plain": [
       "2.776921310745136"
      ]
     },
     "execution_count": 52,
     "metadata": {},
     "output_type": "execute_result"
    }
   ],
   "source": [
    "# 只取预测数据集中有评分的数据集\n",
    "from sklearn.metrics import mean_squared_error\n",
    "from math import sqrt\n",
    "prediction_flatten = svd_prediction[test_data_matrix.nonzero()] \n",
    "test_data_matrix_flatten = test_data_matrix[test_data_matrix.nonzero()]\n",
    "sqrt(mean_squared_error(prediction_flatten, test_data_matrix_flatten))"
   ]
  },
  {
   "cell_type": "code",
   "execution_count": null,
   "metadata": {},
   "outputs": [],
   "source": []
  }
 ],
 "metadata": {
  "kernelspec": {
   "display_name": "Python 3",
   "language": "python",
   "name": "python3"
  },
  "language_info": {
   "codemirror_mode": {
    "name": "ipython",
    "version": 3
   },
   "file_extension": ".py",
   "mimetype": "text/x-python",
   "name": "python",
   "nbconvert_exporter": "python",
   "pygments_lexer": "ipython3",
   "version": "3.6.4"
  }
 },
 "nbformat": 4,
 "nbformat_minor": 2
}
