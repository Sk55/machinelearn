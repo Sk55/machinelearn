{
 "cells": [
  {
   "cell_type": "markdown",
   "metadata": {},
   "source": [
    "### SVM"
   ]
  },
  {
   "cell_type": "code",
   "execution_count": 2,
   "metadata": {},
   "outputs": [
    {
     "data": {
      "text/plain": [
       "<function print>"
      ]
     },
     "execution_count": 2,
     "metadata": {},
     "output_type": "execute_result"
    }
   ],
   "source": [
    "\"\"\"\n",
    "    构建机器学习模型步骤；\n",
    "        1、如何搜集数据 ？\n",
    "            历史数据\n",
    "        2、如何进行数据准备 ？\n",
    "            提取特征字段和标签字段  -   特征工程    （花费时间最多的）\n",
    "        3、如何训练模型 ？\n",
    "            使用什么算法进行训练模型\n",
    "        4、如何使用模型预测 ？\n",
    "            使用训练的模型如决策树模型，进行预测\n",
    "        5、如何评估模型的准确率?\n",
    "            使用某一个标准来评估模型的准确率，二元分类中使用 AUC 作为评估标准\n",
    "        6、模型训练参数如何影响准确率？\n",
    "            训练模型时，针对算法传递不同的参数将会影响准确率和训练时间。\n",
    "            如使用决策树算法，其中参数impurity、maxDepth、maxBins的值设置\n",
    "        7、如何找出准确率最高的参数组合？\n",
    "            不同的参数，不同的组合得到的模型不一样，准确率也不痒。\n",
    "        8、如何确认是否Overfiiting（过度训练，过拟合）：\n",
    "            Overfiting（过度训练）是指机器学习所学到的模型过度贴近trainData，从而导致误差变得很大。\n",
    "            我们使用另一组数据testData再次测试，以避免overfitting的问题。\n",
    "            - 如果训练评估阶段是AUC很高，但是测试阶段AUC很低，代表可能有overfitting的问题。\n",
    "            - 如果测试与训练评估阶段的结果中AUC差异不大，就代表无overfitting的问题。\n",
    "\"\"\"\n",
    "print"
   ]
  },
  {
   "cell_type": "code",
   "execution_count": 3,
   "metadata": {},
   "outputs": [],
   "source": [
    "# 导入模块 pyspark\n",
    "from pyspark import SparkConf, SparkContext\n",
    "# 导入系统模块\n",
    "import os\n",
    "import time"
   ]
  },
  {
   "cell_type": "code",
   "execution_count": 4,
   "metadata": {},
   "outputs": [],
   "source": [
    "# 设置环境变量\n",
    "os.environ['JAVA_HOME'] = 'C:\\Java\\jdk1.8.0_91'\n",
    "# HADOOP在Windows的兼容性问题  主要需要$HADOOP_HOME/lib中winutils.exe等文件\n",
    "os.environ['HADOOP_HOME'] = 'C:\\Java\\hadoop-2.6.0-cdh5.7.6'\n",
    "# 设置SPARK_HOME环境变量, 非常重要, 如果没有设置的话,SparkApplication运行不了\n",
    "os.environ['SPARK_HOME'] = 'C:\\Java\\spark-2.2.0-bin-2.6.0-cdh5.7.6'\n",
    "\n",
    "# Create SparkConf\n",
    "sparkConf = SparkConf()\\\n",
    "    .setAppName('Python_Spark_Classifier')\\\n",
    "    .setMaster('local[2]')\n",
    "# Create SparkContext\n",
    "sc = SparkContext(conf=sparkConf)"
   ]
  },
  {
   "cell_type": "code",
   "execution_count": 5,
   "metadata": {},
   "outputs": [
    {
     "name": "stdout",
     "output_type": "stream",
     "text": [
      "<SparkContext master=local[2] appName=Python_Spark_Classifier>\n"
     ]
    }
   ],
   "source": [
    "print(sc)"
   ]
  },
  {
   "cell_type": "code",
   "execution_count": 6,
   "metadata": {},
   "outputs": [
    {
     "data": {
      "text/plain": [
       "['\"url\"\\t\"urlid\"\\t\"boilerplate\"\\t\"alchemy_category\"\\t\"alchemy_category_score\"\\t\"avglinksize\"\\t\"commonlinkratio_1\"\\t\"commonlinkratio_2\"\\t\"commonlinkratio_3\"\\t\"commonlinkratio_4\"\\t\"compression_ratio\"\\t\"embed_ratio\"\\t\"framebased\"\\t\"frameTagRatio\"\\t\"hasDomainLink\"\\t\"html_ratio\"\\t\"image_ratio\"\\t\"is_news\"\\t\"lengthyLinkDomain\"\\t\"linkwordscore\"\\t\"news_front_page\"\\t\"non_markup_alphanum_characters\"\\t\"numberOfLinks\"\\t\"numwords_in_url\"\\t\"parametrizedLinkRatio\"\\t\"spelling_errors_ratio\"\\t\"label\"']"
      ]
     },
     "execution_count": 6,
     "metadata": {},
     "output_type": "execute_result"
    }
   ],
   "source": [
    "# 读取数据集： 预测 网页是短暂的还是长青的\n",
    "raw_rdd = sc.textFile('./datas/train.tsv')\n",
    "\n",
    "raw_rdd.take(1)"
   ]
  },
  {
   "cell_type": "markdown",
   "metadata": {},
   "source": [
    "### 数据集\n"
   ]
  },
  {
   "cell_type": "code",
   "execution_count": 7,
   "metadata": {},
   "outputs": [
    {
     "data": {
      "text/plain": [
       "['\"url\"\\t\"urlid\"\\t\"boilerplate\"\\t\"alchemy_category\"\\t\"alchemy_category_score\"\\t\"avglinksize\"\\t\"commonlinkratio_1\"\\t\"commonlinkratio_2\"\\t\"commonlinkratio_3\"\\t\"commonlinkratio_4\"\\t\"compression_ratio\"\\t\"embed_ratio\"\\t\"framebased\"\\t\"frameTagRatio\"\\t\"hasDomainLink\"\\t\"html_ratio\"\\t\"image_ratio\"\\t\"is_news\"\\t\"lengthyLinkDomain\"\\t\"linkwordscore\"\\t\"news_front_page\"\\t\"non_markup_alphanum_characters\"\\t\"numberOfLinks\"\\t\"numwords_in_url\"\\t\"parametrizedLinkRatio\"\\t\"spelling_errors_ratio\"\\t\"label\"']"
      ]
     },
     "execution_count": 7,
     "metadata": {},
     "output_type": "execute_result"
    }
   ],
   "source": [
    "# 读取数据集： 预测 网页是短暂的还是长青的\n",
    "raw_rdd = sc.textFile('./datas/train.tsv')\n",
    "\n",
    "raw_rdd.take(1)"
   ]
  },
  {
   "cell_type": "code",
   "execution_count": 8,
   "metadata": {},
   "outputs": [
    {
     "data": {
      "text/plain": [
       "27"
      ]
     },
     "execution_count": 8,
     "metadata": {},
     "output_type": "execute_result"
    }
   ],
   "source": [
    "len(raw_rdd.take(1)[0].split(\"\\t\"))###单个字符串长度"
   ]
  },
  {
   "cell_type": "code",
   "execution_count": 9,
   "metadata": {},
   "outputs": [
    {
     "data": {
      "text/plain": [
       "['\"url\"\\t\"urlid\"\\t\"boilerplate\"\\t\"alchemy_category\"\\t\"alchemy_category_score\"\\t\"avglinksize\"\\t\"commonlinkratio_1\"\\t\"commonlinkratio_2\"\\t\"commonlinkratio_3\"\\t\"commonlinkratio_4\"\\t\"compression_ratio\"\\t\"embed_ratio\"\\t\"framebased\"\\t\"frameTagRatio\"\\t\"hasDomainLink\"\\t\"html_ratio\"\\t\"image_ratio\"\\t\"is_news\"\\t\"lengthyLinkDomain\"\\t\"linkwordscore\"\\t\"news_front_page\"\\t\"non_markup_alphanum_characters\"\\t\"numberOfLinks\"\\t\"numwords_in_url\"\\t\"parametrizedLinkRatio\"\\t\"spelling_errors_ratio\"\\t\"label\"',\n",
       " '\"http://www.bloomberg.com/news/2010-12-23/ibm-predicts-holographic-calls-air-breathing-batteries-by-2015.html\"\\t\"4042\"\\t\"{\"\"title\"\":\"\"IBM Sees Holographic Calls Air Breathing Batteries ibm sees holographic calls, air-breathing batteries\"\",\"\"body\"\":\"\"A sign stands outside the International Business Machines Corp IBM Almaden Research Center campus in San Jose California Photographer Tony Avelar Bloomberg Buildings stand at the International Business Machines Corp IBM Almaden Research Center campus in the Santa Teresa Hills of San Jose California Photographer Tony Avelar Bloomberg By 2015 your mobile phone will project a 3 D image of anyone who calls and your laptop will be powered by kinetic energy At least that s what International Business Machines Corp sees in its crystal ball The predictions are part of an annual tradition for the Armonk New York based company which surveys its 3 000 researchers to find five ideas expected to take root in the next five years IBM the world s largest provider of computer services looks to Silicon Valley for input gleaning many ideas from its Almaden research center in San Jose California Holographic conversations projected from mobile phones lead this year s list The predictions also include air breathing batteries computer programs that can tell when and where traffic jams will take place environmental information generated by sensors in cars and phones and cities powered by the heat thrown off by computer servers These are all stretch goals and that s good said Paul Saffo managing director of foresight at the investment advisory firm Discern in San Francisco In an era when pessimism is the new black a little dose of technological optimism is not a bad thing For IBM it s not just idle speculation The company is one of the few big corporations investing in long range research projects and it counts on innovation to fuel growth Saffo said Not all of its predictions pan out though IBM was overly optimistic about the spread of speech technology for instance When the ideas do lead to products they can have broad implications for society as well as IBM s bottom line he said Research Spending They have continued to do research when all the other grand research organizations are gone said Saffo who is also a consulting associate professor at Stanford University IBM invested 5 8 billion in research and development last year 6 1 percent of revenue While that s down from about 10 percent in the early 1990s the company spends a bigger share on research than its computing rivals Hewlett Packard Co the top maker of personal computers spent 2 4 percent last year At Almaden scientists work on projects that don t always fit in with IBM s computer business The lab s research includes efforts to develop an electric car battery that runs 500 miles on one charge a filtration system for desalination and a program that shows changes in geographic data IBM rose 9 cents to 146 04 at 11 02 a m in New York Stock Exchange composite trading The stock had gained 11 percent this year before today Citizen Science The list is meant to give a window into the company s innovation engine said Josephine Cheng a vice president at IBM s Almaden lab All this demonstrates a real culture of innovation at IBM and willingness to devote itself to solving some of the world s biggest problems she said Many of the predictions are based on projects that IBM has in the works One of this year s ideas that sensors in cars wallets and personal devices will give scientists better data about the environment is an expansion of the company s citizen science initiative Earlier this year IBM teamed up with the California State Water Resources Control Board and the City of San Jose Environmental Services to help gather information about waterways Researchers from Almaden created an application that lets smartphone users snap photos of streams and creeks and report back on conditions The hope is that these casual observations will help local and state officials who don t have the resources to do the work themselves Traffic Predictors IBM also sees data helping shorten commutes in the next five years Computer programs will use algorithms and real time traffic information to predict which roads will have backups and how to avoid getting stuck Batteries may last 10 times longer in 2015 than today IBM says Rather than using the current lithium ion technology new models could rely on energy dense metals that only need to interact with the air to recharge Some electronic devices might ditch batteries altogether and use something similar to kinetic wristwatches which only need to be shaken to generate a charge The final prediction involves recycling the heat generated by computers and data centers Almost half of the power used by data centers is currently spent keeping the computers cool IBM scientists say it would be better to harness that heat to warm houses and offices In IBM s first list of predictions compiled at the end of 2006 researchers said instantaneous speech translation would become the norm That hasn t happened yet While some programs can quickly translate electronic documents and instant messages and other apps can perform limited speech translation there s nothing widely available that acts like the universal translator in Star Trek Second Life The company also predicted that online immersive environments such as Second Life would become more widespread While immersive video games are as popular as ever Second Life s growth has slowed Internet users are flocking instead to the more 2 D environments of Facebook Inc and Twitter Inc Meanwhile a 2007 prediction that mobile phones will act as a wallet ticket broker concierge bank and shopping assistant is coming true thanks to the explosion of smartphone applications Consumers can pay bills through their banking apps buy movie tickets and get instant feedback on potential purchases all with a few taps on their phones The nice thing about the list is that it provokes thought Saffo said If everything came true they wouldn t be doing their job To contact the reporter on this story Ryan Flinn in San Francisco at rflinn bloomberg net To contact the editor responsible for this story Tom Giles at tgiles5 bloomberg net by 2015, your mobile phone will project a 3-d image of anyone who calls and your laptop will be powered by kinetic energy. at least that\\\\u2019s what international business machines corp. sees in its crystal ball.\"\",\"\"url\"\":\"\"bloomberg news 2010 12 23 ibm predicts holographic calls air breathing batteries by 2015 html\"\"}\"\\t\"business\"\\t\"0.789131\"\\t\"2.055555556\"\\t\"0.676470588\"\\t\"0.205882353\"\\t\"0.047058824\"\\t\"0.023529412\"\\t\"0.443783175\"\\t\"0\"\\t\"0\"\\t\"0.09077381\"\\t\"0\"\\t\"0.245831182\"\\t\"0.003883495\"\\t\"1\"\\t\"1\"\\t\"24\"\\t\"0\"\\t\"5424\"\\t\"170\"\\t\"8\"\\t\"0.152941176\"\\t\"0.079129575\"\\t\"0\"']"
      ]
     },
     "execution_count": 9,
     "metadata": {},
     "output_type": "execute_result"
    }
   ],
   "source": [
    "\"\"\"\n",
    "    数据集中字段：\n",
    "        -a. 每行数据的各个字段使用制表符隔开 \\t\n",
    "            文件的第一行为字段名称\n",
    "        -b. 字段 0 - 2 \n",
    "            表示的是 url网址、urlid网址ID、boilerplate连接的样本文字,此三个字段与判断网页是否长青性关系不大，忽略\n",
    "        -c. 字段 3 - 25 \n",
    "            总共23个字段属于特征字段值，基本上都是数值类型特征\n",
    "        -d. 字段26\n",
    "            属于 标签label，具有两个值\n",
    "            - 0: 代表长青性（evergreen）\n",
    "            - 1： 代表的是短暂性\n",
    "\"\"\"\n",
    "\n",
    "# 获取原始数据集中前2条数据\n",
    "raw_rdd.take(2)"
   ]
  },
  {
   "cell_type": "code",
   "execution_count": 10,
   "metadata": {},
   "outputs": [],
   "source": [
    "# 获取第一条数据\n",
    "header_data = raw_rdd.first()\n",
    "\n",
    "# 采用过滤的方式，删除第一条数据\n",
    "filter_rdd = raw_rdd.filter(lambda line: line != header_data)"
   ]
  },
  {
   "cell_type": "code",
   "execution_count": 11,
   "metadata": {},
   "outputs": [
    {
     "data": {
      "text/plain": [
       "'总共：7395'"
      ]
     },
     "execution_count": 11,
     "metadata": {},
     "output_type": "execute_result"
    }
   ],
   "source": [
    "datas = filter_rdd \\\n",
    "    .map(lambda line: line.replace(\"\\\"\", \"\"))\\\n",
    "    .map(lambda line: line.split(\"\\t\"))\n",
    "    \n",
    "\"总共：\" + str(datas.count())"
   ]
  },
  {
   "cell_type": "code",
   "execution_count": 12,
   "metadata": {},
   "outputs": [
    {
     "data": {
      "text/plain": [
       "['business',\n",
       " '0.789131',\n",
       " '2.055555556',\n",
       " '0.676470588',\n",
       " '0.205882353',\n",
       " '0.047058824',\n",
       " '0.023529412',\n",
       " '0.443783175',\n",
       " '0',\n",
       " '0',\n",
       " '0.09077381',\n",
       " '0',\n",
       " '0.245831182',\n",
       " '0.003883495',\n",
       " '1',\n",
       " '1',\n",
       " '24',\n",
       " '0',\n",
       " '5424',\n",
       " '170',\n",
       " '8',\n",
       " '0.152941176',\n",
       " '0.079129575',\n",
       " '0']"
      ]
     },
     "execution_count": 12,
     "metadata": {},
     "output_type": "execute_result"
    }
   ],
   "source": [
    "# 查看第一条数据\n",
    "\n",
    "\n",
    "\"\"\"\n",
    "    数据分为三个部分：\n",
    "        - 第一个部分：\n",
    "            第一个字段：特征地址为 类别特征数据\n",
    "        - 第二个部分：\n",
    "            最后一个字段：label 字段\n",
    "        - 第三个部分：\n",
    "            其他字段：数值特征字段\n",
    "\"\"\"\n",
    "datas.first()[3:]"
   ]
  },
  {
   "cell_type": "markdown",
   "metadata": {},
   "source": [
    "### 提取特征feature字段"
   ]
  },
  {
   "cell_type": "code",
   "execution_count": 13,
   "metadata": {},
   "outputs": [
    {
     "data": {
      "text/plain": [
       "{'?': 2,\n",
       " 'arts_entertainment': 3,\n",
       " 'business': 0,\n",
       " 'computer_internet': 6,\n",
       " 'culture_politics': 5,\n",
       " 'gaming': 4,\n",
       " 'health': 12,\n",
       " 'law_crime': 7,\n",
       " 'recreation': 11,\n",
       " 'religion': 8,\n",
       " 'science_technology': 13,\n",
       " 'sports': 1,\n",
       " 'unknown': 10,\n",
       " 'weather': 9}"
      ]
     },
     "execution_count": 13,
     "metadata": {},
     "output_type": "execute_result"
    }
   ],
   "source": [
    "# 类别特征数据转换：采用 1-of-K，其中K表示的就是类别的个数\n",
    "# 构建 网页类别 字典\n",
    "catetory_dic = datas \\\n",
    "    .map(lambda fields: fields[3]) \\\n",
    "    .distinct() \\\n",
    "    .zipWithIndex() \\\n",
    "    .collectAsMap()\n",
    "\n",
    "catetory_dic"
   ]
  },
  {
   "cell_type": "code",
   "execution_count": 14,
   "metadata": {},
   "outputs": [
    {
     "name": "stdout",
     "output_type": "stream",
     "text": [
      "14\n"
     ]
    }
   ],
   "source": [
    "#查看自带你的额项数\n",
    "print(len(catetory_dic))"
   ]
  },
  {
   "cell_type": "code",
   "execution_count": 15,
   "metadata": {},
   "outputs": [
    {
     "data": {
      "text/plain": [
       "dict"
      ]
     },
     "execution_count": 15,
     "metadata": {},
     "output_type": "execute_result"
    }
   ],
   "source": [
    "#查看类型\n",
    "type(catetory_dic)"
   ]
  },
  {
   "cell_type": "code",
   "execution_count": 16,
   "metadata": {},
   "outputs": [],
   "source": [
    "#导入numpy\n",
    "import numpy as np"
   ]
  },
  {
   "cell_type": "code",
   "execution_count": 17,
   "metadata": {},
   "outputs": [],
   "source": [
    "# 转换 字段的值为 ? 转换为 0，转换为数值类型\n",
    "def conver_float(x):\n",
    "    return (0 if x == \"?\" else float(x))\n",
    "\n",
    "\n",
    "# 特征字段提取\n",
    "def extract_features(fields, catetory_dic, end_index):\n",
    "    # 类别字段\n",
    "    category_index = catetory_dic[fields[3]]\n",
    "    category_features = np.zeros(len(catetory_dic))\n",
    "    category_features[category_index] = 1.0\n",
    "    \n",
    "    # 数值字段\n",
    "    numeric_features = [ conver_float(column)  for column in fields[4: end_index]]\n",
    "    # print numeric_features\n",
    "    \n",
    "    # 返回  类别 特征 +  数值特征 \n",
    "    return np.concatenate((category_features, numeric_features))"
   ]
  },
  {
   "cell_type": "code",
   "execution_count": 18,
   "metadata": {},
   "outputs": [],
   "source": [
    "# 提取 标签字段\n",
    "def extract_label(fields):\n",
    "    label = fields[-1]\n",
    "    return float(label)"
   ]
  },
  {
   "cell_type": "code",
   "execution_count": 19,
   "metadata": {},
   "outputs": [
    {
     "data": {
      "text/plain": [
       "array([1.00000000e+00, 0.00000000e+00, 0.00000000e+00, 0.00000000e+00,\n",
       "       0.00000000e+00, 0.00000000e+00, 0.00000000e+00, 0.00000000e+00,\n",
       "       0.00000000e+00, 0.00000000e+00, 0.00000000e+00, 0.00000000e+00,\n",
       "       0.00000000e+00, 0.00000000e+00, 7.89131000e-01, 2.05555556e+00,\n",
       "       6.76470588e-01, 2.05882353e-01, 4.70588240e-02, 2.35294120e-02,\n",
       "       4.43783175e-01, 0.00000000e+00, 0.00000000e+00, 9.07738100e-02,\n",
       "       0.00000000e+00, 2.45831182e-01, 3.88349500e-03, 1.00000000e+00,\n",
       "       1.00000000e+00, 2.40000000e+01, 0.00000000e+00, 5.42400000e+03,\n",
       "       1.70000000e+02, 8.00000000e+00, 1.52941176e-01, 7.91295750e-02])"
      ]
     },
     "execution_count": 19,
     "metadata": {},
     "output_type": "execute_result"
    }
   ],
   "source": [
    "# 测试 提取特征函数\n",
    "sample_data = datas.first()\n",
    "extract_features(sample_data, catetory_dic, len(sample_data)-1)"
   ]
  },
  {
   "cell_type": "code",
   "execution_count": 20,
   "metadata": {},
   "outputs": [],
   "source": [
    "from pyspark.mllib.regression import LabeledPoint"
   ]
  },
  {
   "cell_type": "code",
   "execution_count": 21,
   "metadata": {},
   "outputs": [],
   "source": [
    "# 特征工程：构建分类算法特征RDD： LabeledPoint\n",
    "from pyspark.mllib.regression import LabeledPoint\n",
    "\n",
    "labelpoint_rdd = datas.map(lambda r: \n",
    "          LabeledPoint(extract_label(r), extract_features(r, catetory_dic, len(r)-1)))"
   ]
  },
  {
   "cell_type": "code",
   "execution_count": 22,
   "metadata": {},
   "outputs": [
    {
     "data": {
      "text/plain": [
       "(['business',\n",
       "  '0.789131',\n",
       "  '2.055555556',\n",
       "  '0.676470588',\n",
       "  '0.205882353',\n",
       "  '0.047058824',\n",
       "  '0.023529412',\n",
       "  '0.443783175',\n",
       "  '0',\n",
       "  '0',\n",
       "  '0.09077381',\n",
       "  '0',\n",
       "  '0.245831182',\n",
       "  '0.003883495',\n",
       "  '1',\n",
       "  '1',\n",
       "  '24',\n",
       "  '0',\n",
       "  '5424',\n",
       "  '170',\n",
       "  '8',\n",
       "  '0.152941176',\n",
       "  '0.079129575',\n",
       "  '0'],\n",
       " [LabeledPoint(0.0, [1.0,0.0,0.0,0.0,0.0,0.0,0.0,0.0,0.0,0.0,0.0,0.0,0.0,0.0,0.789131,2.055555556,0.676470588,0.205882353,0.047058824,0.023529412,0.443783175,0.0,0.0,0.09077381,0.0,0.245831182,0.003883495,1.0,1.0,24.0,0.0,5424.0,170.0,8.0,0.152941176,0.079129575])])"
      ]
     },
     "execution_count": 22,
     "metadata": {},
     "output_type": "execute_result"
    }
   ],
   "source": [
    "# 获取数据对比\n",
    "datas.first()[3:],labelpoint_rdd.take(1)"
   ]
  },
  {
   "cell_type": "markdown",
   "metadata": {},
   "source": [
    "### 数据集划分"
   ]
  },
  {
   "cell_type": "code",
   "execution_count": 23,
   "metadata": {},
   "outputs": [],
   "source": [
    "# 划分数据集，按照 8: 1: 1划分\n",
    "train_rdd, validation_rdd, test_rdd = labelpoint_rdd.randomSplit([7,2,1])"
   ]
  },
  {
   "cell_type": "code",
   "execution_count": 24,
   "metadata": {},
   "outputs": [
    {
     "name": "stdout",
     "output_type": "stream",
     "text": [
      "训练数据集:  5262\n",
      "验证数据集:  1439\n",
      "测试数据集:  694\n"
     ]
    }
   ],
   "source": [
    "# 统计各个数据集条目数，并且将数据缓存起来\n",
    "print('训练数据集: ', train_rdd.cache().count())\n",
    "print('验证数据集: ', validation_rdd.cache().count())\n",
    "print('测试数据集: ', test_rdd.cache().count())"
   ]
  },
  {
   "cell_type": "markdown",
   "metadata": {},
   "source": [
    "### 训练模块"
   ]
  },
  {
   "cell_type": "code",
   "execution_count": 25,
   "metadata": {},
   "outputs": [
    {
     "data": {
      "text/plain": [
       "(weights=[0.2894095173433443,-0.354390200786637,-0.4348474817262035,-0.47500543853611166,-0.02750700301277201,-0.10524479088553164,-0.24296874524121473,-0.012078421530786561,-0.025760502431698428,-0.005935452214869844,-0.005776617901852765,0.3490500042258589,-0.016731391794543832,-0.09554506263649504,-0.5279341610976515,-1.2429059778300375,-0.39640447645250904,-0.13740791706152342,-0.0184958101522274,-0.007949207838425225,-4.87073936137362,0.19667558842266505,0.0,-0.12974330577782434,-0.04045271237820033,-0.2947402446439461,-0.48298558072519365,-0.6959652488804384,-0.6122215433808469,-60.08412241718933,-0.06812212331220191,-209.63317776478695,-71.72060119463222,-6.404246596097144,-0.2013498080715562,-0.1503641003361016], intercept=0.0)"
      ]
     },
     "execution_count": 25,
     "metadata": {},
     "output_type": "execute_result"
    }
   ],
   "source": [
    "# train(cls, data, iterations=100, step=1.0, regParam=0.01,  #正则\n",
    "#       miniBatchFraction=1.0, initialWeights=None, regType='l2', \n",
    "#       intercept=False, validateData=True, convergenceTol=0.001) \n",
    "#导入模块\n",
    "from pyspark.mllib.classification import SVMWithSGD\n",
    "dt_model = SVMWithSGD.train(train_rdd,iterations=100\n",
    "                            , regParam=0.01,miniBatchFraction=1.0)\n",
    "dt_model"
   ]
  },
  {
   "cell_type": "code",
   "execution_count": null,
   "metadata": {},
   "outputs": [],
   "source": []
  },
  {
   "cell_type": "code",
   "execution_count": 26,
   "metadata": {},
   "outputs": [
    {
     "data": {
      "text/plain": [
       "[(0, 0.0), (0, 1.0), (0, 1.0), (0, 1.0), (0, 0.0)]"
      ]
     },
     "execution_count": 26,
     "metadata": {},
     "output_type": "execute_result"
    }
   ],
   "source": [
    "# 基于训练的模型和验证书籍及 评估\n",
    "score = dt_model.predict(validation_rdd.map(lambda lp: lp.features))\n",
    "\n",
    "# 组合预测的值和实际真实的值\n",
    "score_and_label = score.zip(validation_rdd.map(lambda lp: lp.label))\n",
    "\n",
    "# 获取前十个数据打印\n",
    "score_and_label.take(5)\n"
   ]
  },
  {
   "cell_type": "code",
   "execution_count": 27,
   "metadata": {},
   "outputs": [
    {
     "data": {
      "text/plain": [
       "<function print>"
      ]
     },
     "execution_count": 27,
     "metadata": {},
     "output_type": "execute_result"
    }
   ],
   "source": [
    "\"\"\"\n",
    "    使用AUC（Area under the Curve of ROC）评估二分类模型，\n",
    "    -a. AUC = 1\n",
    "        最完美的情况，预测准确率到100%，但是不可能存在\n",
    "    -b. 0.5  < AUC < 1\n",
    "        优于随机猜测，具有预测的价值\n",
    "    -c. AUC = 0.5\n",
    "        余随机猜测一样，没有任何预测价值\n",
    "    -d. AUC < 0.5\n",
    "        适合于反向预测\n",
    "        \n",
    "    ROC曲线  PR曲线： 精确度precision 和 召回率 之间的关系\n",
    "\"\"\"\n",
    "print"
   ]
  },
  {
   "cell_type": "code",
   "execution_count": null,
   "metadata": {},
   "outputs": [],
   "source": []
  },
  {
   "cell_type": "code",
   "execution_count": 28,
   "metadata": {},
   "outputs": [
    {
     "data": {
      "text/plain": [
       "[(0, 0.0),\n",
       " (0, 1.0),\n",
       " (0, 1.0),\n",
       " (0, 1.0),\n",
       " (0, 0.0),\n",
       " (0, 1.0),\n",
       " (0, 0.0),\n",
       " (0, 0.0),\n",
       " (0, 0.0),\n",
       " (0, 0.0)]"
      ]
     },
     "execution_count": 28,
     "metadata": {},
     "output_type": "execute_result"
    }
   ],
   "source": [
    "# 基于训练的模型和验证书籍及 评估\n",
    "score = dt_model.predict(validation_rdd.map(lambda lp: lp.features))\n",
    "\n",
    "# 组合预测的值和实际真实的值\n",
    "score_and_label = score.zip(validation_rdd.map(lambda lp: lp.label))\n",
    "\n",
    "# 获取前十个数据打印\n",
    "score_and_label.take(10)"
   ]
  },
  {
   "cell_type": "code",
   "execution_count": null,
   "metadata": {},
   "outputs": [],
   "source": []
  },
  {
   "cell_type": "code",
   "execution_count": 39,
   "metadata": {},
   "outputs": [],
   "source": [
    "from pyspark.mllib.evaluation import BinaryClassificationMetrics\n",
    "\n",
    "\n",
    "# 方便对模型评估，定义函数\n",
    "def evaluate_mode(model, validation_data):\n",
    "    # 基于训练的模型和验证书籍及 评估\n",
    "    score = model.predict(validation_data.map(lambda lp: lp.features)).map(lambda x: float(x))\n",
    "\n",
    "    # 组合预测的值和实际真实的值\n",
    "    score_and_label = score.zip(validation_data.map(lambda lp: lp.label))\n",
    "    \n",
    "    # 使用BinaryClassificationMetrics 计算AUC面积\n",
    "    metrics = BinaryClassificationMetrics(score_and_label)\n",
    "\n",
    "    return metrics.areaUnderROC"
   ]
  },
  {
   "cell_type": "markdown",
   "metadata": {},
   "source": [
    "### 参数调优"
   ]
  },
  {
   "cell_type": "code",
   "execution_count": 52,
   "metadata": {},
   "outputs": [],
   "source": [
    "\"\"\"\n",
    "    构建一个函数，实现模型的 训练和评估功能，并且计算评估所需的时间\n",
    "\"\"\"\n",
    "from time import time\n",
    "\n",
    "def train_evaluate_model(train_data, iterations, \n",
    "                         regParam,miniBatchFraction,validation_data):\n",
    "    # 模型训练开始时间\n",
    "    start_time = time()\n",
    "    \n",
    "    # 训练模型\n",
    "    model = SVMWithSGD.train(train_rdd,iterations=iterations\n",
    "                            ,regParam=regParam,miniBatchFraction=miniBatchFraction)\n",
    "    \n",
    "    # 模型验证评估\n",
    "    auc = evaluate_mode(model,validation_data)\n",
    "    \n",
    "    # 计算花费时间\n",
    "    duration = time() - start_time\n",
    "    print(\"训练评估使用参数：miniBatchFraction = \" + str(miniBatchFraction) + \\\n",
    "        \", iterations = \" + str(iterations) + \\\n",
    "        \", regParam = \" + str(regParam) + \\\n",
    "        \" => 所需时间 = \" + str(duration) + \", 评估AUC = \" + str(auc))\n",
    "    \n",
    "    # 返回\n",
    "    return (auc, iterations,regParam,miniBatchFraction,duration, model)\n",
    "    "
   ]
  },
  {
   "cell_type": "code",
   "execution_count": 53,
   "metadata": {},
   "outputs": [
    {
     "name": "stdout",
     "output_type": "stream",
     "text": [
      "训练评估使用参数：miniBatchFraction = 0.8, iterations = 150, regParam = 0.01 => 所需时间 = 8.185468196868896, 评估AUC = 0.5\n"
     ]
    },
    {
     "data": {
      "text/plain": [
       "(0.5,\n",
       " 150,\n",
       " 0.01,\n",
       " 0.8,\n",
       " 8.185468196868896,\n",
       " (weights=[0.3552973670455374,-0.42400921430400235,-0.5176383656935559,-0.5628599471548509,-0.03272235916056206,-0.12496403838368975,-0.28743785140769784,-0.015120050314365726,-0.031562111383751756,-0.0067742856696276,-0.006952917754707379,0.42379659214000115,-0.022387077986309817,-0.11378913902105792,-0.6206653712867168,-1.2143923670201922,-0.4643404053410707,-0.16051797243339327,-0.01997105028603678,-0.007625207497432221,-5.719815620480423,0.22757396530661186,0.0,-0.15301350499805674,-0.04711827082571155,-0.34552202970129553,-0.5984844610035224,-0.8205473443804788,-0.7249098039310973,-71.02271835487804,-0.07831703182120767,-76.61167281678375,-84.70578171010413,-7.532263047027577,-0.23958979048890905,-0.17775478327203537], intercept=0.0))"
      ]
     },
     "execution_count": 53,
     "metadata": {},
     "output_type": "execute_result"
    }
   ],
   "source": [
    "train_evaluate_model(train_rdd, 150, 0.01, 0.8,validation_rdd)"
   ]
  },
  {
   "cell_type": "markdown",
   "metadata": {},
   "source": [
    "### 最佳模型\n"
   ]
  },
  {
   "cell_type": "code",
   "execution_count": 56,
   "metadata": {},
   "outputs": [],
   "source": [
    "# 定义函数\n",
    "# 编写函数，可以对决策树 任意的参数调整进行训练和评估\n",
    "def train_evaluate_params(train_data, iterations_list, \n",
    "                         regParam_list,miniBatchFraction_list,validation_data):\n",
    "    # 训练及评估返回值\n",
    "    metrics_list = [ train_evaluate_model(train_rdd,ite,reg,miniBatch,validation_rdd)\n",
    "                        for ite in iterations_list\n",
    "                        for reg in regParam_list\n",
    "                        for miniBatch in miniBatchFraction_list\n",
    "                    ]\n",
    "    \n",
    "    # 针对 auc值降序排序，找出最佳 模型\n",
    "    sorted_metrics_list = sorted(metrics_list, key=lambda k: k[0], reverse=True)\n",
    "    \n",
    "    # 获取最佳模型\n",
    "    best_params = sorted_metrics_list[0]\n",
    "    \n",
    "    # 打印显示，最佳参数组合\n",
    "    print(\"最佳参数组合: miniBatchFraction -> \" + str(best_params[3]) + \\\n",
    "             \", iterations -> \" + str(best_params[1]) + \\\n",
    "              \", regParam -> \" + str(best_params[2]) + \\\n",
    "              \"\\n AUC -> \" + str(best_params[0])\n",
    "         )\n",
    "    \n",
    "    # 返回模型\n",
    "    return best_params[5]"
   ]
  },
  {
   "cell_type": "code",
   "execution_count": 59,
   "metadata": {},
   "outputs": [
    {
     "name": "stdout",
     "output_type": "stream",
     "text": [
      "-------------------- 设置不同超参数的不同值进行训练评估 -------------------\n",
      "训练评估使用参数：miniBatchFraction = 0.8, iterations = 50, regParam = 0.5 => 所需时间 = 7.275416374206543, 评估AUC = 0.5\n",
      "训练评估使用参数：miniBatchFraction = 1, iterations = 50, regParam = 0.5 => 所需时间 = 7.2434141635894775, 评估AUC = 0.5\n",
      "训练评估使用参数：miniBatchFraction = 0.8, iterations = 50, regParam = 0.8 => 所需时间 = 6.776387691497803, 评估AUC = 0.49931521138622853\n",
      "训练评估使用参数：miniBatchFraction = 1, iterations = 50, regParam = 0.8 => 所需时间 = 6.645380020141602, 评估AUC = 0.49931521138622853\n",
      "训练评估使用参数：miniBatchFraction = 0.8, iterations = 100, regParam = 0.5 => 所需时间 = 7.271415948867798, 评估AUC = 0.5000086926622341\n",
      "训练评估使用参数：miniBatchFraction = 1, iterations = 100, regParam = 0.5 => 所需时间 = 7.390422582626343, 评估AUC = 0.5\n",
      "训练评估使用参数：miniBatchFraction = 0.8, iterations = 100, regParam = 0.8 => 所需时间 = 7.302417755126953, 评估AUC = 0.5028173884151924\n",
      "训练评估使用参数：miniBatchFraction = 1, iterations = 100, regParam = 0.8 => 所需时间 = 7.005400657653809, 评估AUC = 0.49931521138622853\n",
      "最佳参数组合: miniBatchFraction -> 0.8, iterations -> 100, regParam -> 0.8\n",
      " AUC -> 0.5028173884151924\n"
     ]
    }
   ],
   "source": [
    "print ('-------------------- 设置不同超参数的不同值进行训练评估 -------------------')\n",
    "best_model = train_evaluate_params(train_rdd,\n",
    "                                   [50,100], \n",
    "                                   [0.5,0.8], \n",
    "                                   [0.8,1],\n",
    "                                  validation_rdd)"
   ]
  },
  {
   "cell_type": "code",
   "execution_count": 62,
   "metadata": {},
   "outputs": [
    {
     "data": {
      "text/plain": [
       "('基于测试数据集评估AUC = ', 0.5028173884151924)"
      ]
     },
     "execution_count": 62,
     "metadata": {},
     "output_type": "execute_result"
    }
   ],
   "source": [
    "#### 使用 测试数据集 ，最佳模型是否过拟合\n",
    "auc_metric = evaluate_mode(best_model, validation_rdd)\n",
    "\n",
    "'基于测试数据集评估AUC = ', auc_metric"
   ]
  },
  {
   "cell_type": "markdown",
   "metadata": {},
   "source": [
    "### 保存模型"
   ]
  },
  {
   "cell_type": "code",
   "execution_count": 63,
   "metadata": {},
   "outputs": [],
   "source": [
    "# 将最佳模型进行保存\n",
    "best_model.save(sc, path='./datas/SVM-best-model')"
   ]
  },
  {
   "cell_type": "markdown",
   "metadata": {},
   "source": [
    "### 加载模型使用"
   ]
  },
  {
   "cell_type": "code",
   "execution_count": 66,
   "metadata": {},
   "outputs": [
    {
     "data": {
      "text/plain": [
       "(weights=[0.020367062806673396,-0.02465948807867913,-0.03108365031794814,-0.03400477832732595,-0.002209534482196023,-0.007394204336504548,-0.017147999490052152,-0.000932086446305012,-0.0019004579803960256,-0.0003565692046640863,-0.00045086043942416814,0.02450394528720281,-0.0015635121250946469,-0.006092671260585654,-0.03700419390321135,-0.13164463165550225,-0.027996169932592314,-0.009687431556840289,-0.00121175734342234,-0.0004314424361854842,-0.3535499635896977,0.014590274112449036,0.0,-0.009368448350714433,-0.0028794643893677173,-0.02108979225834374,-0.03532035921410548,-0.049235775532917254,-0.04221815148624418,-4.442364449747699,-0.0047673991101905774,4.5178017858959265,-5.101871120077326,-0.448044163979423,-0.014333776425147306,-0.010898578108425042], intercept=0.0)"
      ]
     },
     "execution_count": 66,
     "metadata": {},
     "output_type": "execute_result"
    }
   ],
   "source": [
    "from pyspark.mllib.classification import SVMModel\n",
    "\n",
    "load_dtc_model = SVMModel.load(sc, path='./datas/SVM-best-model')\n",
    "\n",
    "load_dtc_model"
   ]
  },
  {
   "cell_type": "code",
   "execution_count": 68,
   "metadata": {},
   "outputs": [
    {
     "name": "stdout",
     "output_type": "stream",
     "text": [
      "Help on method predict in module pyspark.mllib.classification:\n",
      "\n",
      "predict(x) method of pyspark.mllib.classification.SVMModel instance\n",
      "    Predict values for a single data point or an RDD of points\n",
      "    using the model trained.\n",
      "    \n",
      "    .. versionadded:: 0.9.0\n",
      "\n"
     ]
    }
   ],
   "source": [
    "help(load_dtc_model.predict)"
   ]
  },
  {
   "cell_type": "code",
   "execution_count": null,
   "metadata": {},
   "outputs": [],
   "source": []
  }
 ],
 "metadata": {
  "kernelspec": {
   "display_name": "Python 3",
   "language": "python",
   "name": "python3"
  },
  "language_info": {
   "codemirror_mode": {
    "name": "ipython",
    "version": 3
   },
   "file_extension": ".py",
   "mimetype": "text/x-python",
   "name": "python",
   "nbconvert_exporter": "python",
   "pygments_lexer": "ipython3",
   "version": "3.6.4"
  }
 },
 "nbformat": 4,
 "nbformat_minor": 2
}
