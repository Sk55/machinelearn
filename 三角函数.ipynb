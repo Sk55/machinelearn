{
 "cells": [
  {
   "cell_type": "code",
   "execution_count": 14,
   "metadata": {},
   "outputs": [],
   "source": [
    "import matplotlib.pyplot as plt\n",
    "import numpy as np\n",
    "plt.rcParams[\"font.sans-serif\"]=['SimHei']  # 用于正常显示中文标签\n",
    "plt.rcParams['axes.unicode_minus']=False  # 用来正常显示负号"
   ]
  },
  {
   "cell_type": "code",
   "execution_count": 17,
   "metadata": {},
   "outputs": [],
   "source": [
    "#从pi导入256个点\n",
    "x = np.linspace(-np.pi,np.pi,256,endpoint=True)\n",
    "#根据x的值，求正弦和余弦函数\n",
    "sin,cos = np.sin(x),np.cos(x)  #y值"
   ]
  },
  {
   "cell_type": "code",
   "execution_count": 55,
   "metadata": {
    "scrolled": true
   },
   "outputs": [
    {
     "data": {
      "image/png": "[encoded data removed]",
      "text/plain": [
       "<matplotlib.figure.Figure at 0xa8728d0>"
      ]
     },
     "metadata": {},
     "output_type": "display_data"
    }
   ],
   "source": [
    "plt.plot(x,sin,\"g-\",lw=2.5,label=\"正弦\")\n",
    "plt.plot(x,cos,\"y-\",lw=2.5,label=\"正弦\")\n",
    "#将x和Y轴放大1.5倍\n",
    "plt.xlim(x.min()*1.5,x.max()*1.5)\n",
    "plt.ylim(sin.min()*1.5,cos.max()*1.5)\n",
    "\n",
    "#指定x,y轴的刻度\n",
    "plt.xticks([-np.pi, -np.pi/2, 0, np.pi/2, np.pi],\n",
    "           [r\"$-\\pi$\",r\"$-\\pi/2$\",r\"$0$\",r\"$\\pi/2$\",r\"$\\pi$\"])#替换x中的数字为数学符号\n",
    "plt.yticks([-1,0,1])\n",
    "\n",
    "#获取AXES对象\n",
    "ax = plt.gca()\n",
    "#隐藏右边和上边界\n",
    "ax.spines[\"right\"].set_color(\"none\")\n",
    "ax.spines[\"top\"].set_color(\"none\")\n",
    "\n",
    "#设置坐标轴的位置\n",
    "ax.xaxis.set_ticks_position(\"bottom\") #获取下边界\n",
    "ax.yaxis.set_ticks_position(\"left\")   #获取y轴左边界\n",
    "ax.spines[\"bottom\"].set_position((\"data\",0))\n",
    "ax.spines[\"left\"].set_position((\"data\",0))\n",
    "            \n",
    "# plt.xticks([])\n",
    "plt.legend() #显示图例\n",
    "\n",
    "\n",
    "\n",
    "#标注\n",
    "t=2*np.pi/3\n",
    "# 以下代码是：画出需要标注的蓝色的线,cos余弦\n",
    "plt.plot([t,t],[0,np.cos(t)],  #前者是两点的x轴，后者是两者的Y值\n",
    "         color ='blue',\n",
    "         linewidth=2.5,\n",
    "         linestyle=\"--\")\n",
    "#描点，先标注\n",
    "\n",
    "plt.scatter([t,],[np.cos(t),], 20, color ='blue')#值，点的大小，颜色\n",
    "#写注释\n",
    "plt.annotate(r'$\\cos(\\frac{2\\pi}{3})=-\\frac{1}{2}$',\n",
    "            xy=(t, np.cos(t)),#需要标注的位置\n",
    "             xycoords='data',#文字的偏移量\n",
    "             xytext=(-50, -50),#注释的文字的位置，是相对于备注点的位置\n",
    "             textcoords='offset points',\n",
    "             fontsize=10, #注释的大小\n",
    "            arrowprops=dict(arrowstyle=\"->\",connectionstyle=\"arc3,rad=.2\"))#箭头指向的弯曲度\n",
    "\n",
    "\n",
    "t=2*np.pi/3\n",
    "# 以下代码是：画出需要标注的蓝色的线，sin正弦\n",
    "plt.plot([t,t],[0,np.sin(t)],  #前者是两点的x轴，后者是两者的Y值\n",
    "         color ='red',\n",
    "         linewidth=2.5,\n",
    "         linestyle=\"--\")\n",
    "plt.scatter([t,],[np.sin(t),], 20, color ='red')\n",
    "#同上\n",
    "plt.annotate(r'$\\sin(\\frac{2\\pi}{3})=-\\frac{1}{2}$',\n",
    "            xy=(t, np.sin(t)),#需要标注点的位置\n",
    "             xycoords='data', #文字的偏移量\n",
    "             xytext=(50, 50),#注释的文字的位置，是相对于备注点的位置\n",
    "             textcoords='offset points',\n",
    "             fontsize=10, #注释的大小\n",
    "            arrowprops=dict(arrowstyle=\"->\",connectionstyle=\"arc3,rad=.2\"))#箭头指向的弯曲度\n",
    "\n",
    "\n",
    "\n",
    "#获取x,y轴的刻度，并设置字体\n",
    "for label in ax.get_xticklabels() + ax.get_yticklabels():\n",
    "    label.set_fontsize(12)  #字体大小\n",
    "    label.set_bbox(dict(facecolor='w',edgecolor='b',alpha=0.5))  #为刻度设置边框格式\n",
    "# facecolor背景填充颜色，edgecolor边框颜色,alpha透明度"
   ]
  },
  {
   "cell_type": "code",
   "execution_count": null,
   "metadata": {},
   "outputs": [],
   "source": []
  }
 ],
 "metadata": {
  "kernelspec": {
   "display_name": "Python 3",
   "language": "python",
   "name": "python3"
  },
  "language_info": {
   "codemirror_mode": {
    "name": "ipython",
    "version": 3
   },
   "file_extension": ".py",
   "mimetype": "text/x-python",
   "name": "python",
   "nbconvert_exporter": "python",
   "pygments_lexer": "ipython3",
   "version": "3.6.4"
  }
 },
 "nbformat": 4,
 "nbformat_minor": 2
}
